{
  "cells": [
    {
      "cell_type": "markdown",
      "metadata": {
        "id": "4lXgccrX_-I9"
      },
      "source": [
        "# **MBTI Personality Prediction**\n",
        "\n",
        "\n",
        "---\n",
        "\n"
      ]
    },
    {
      "cell_type": "code",
      "execution_count": 1,
      "metadata": {
        "id": "3SaYh2-DtaFj"
      },
      "outputs": [],
      "source": [
        "# Data Analysis\n",
        "import pandas as pd\n",
        "import numpy as np\n",
        "from numpy import asarray\n",
        "from numpy import savetxt\n",
        "from numpy import loadtxt\n",
        "import pickle as pkl\n",
        "from scipy import sparse\n",
        "\n",
        "# Data Visualization\n",
        "import seaborn as sns\n",
        "import matplotlib.pyplot as plt\n",
        "import wordcloud\n",
        "from wordcloud import WordCloud, STOPWORDS\n",
        "\n",
        "# Text Processing\n",
        "import re\n",
        "import itertools\n",
        "import string\n",
        "import collections\n",
        "from collections import Counter\n",
        "from sklearn.preprocessing import LabelEncoder\n",
        "import nltk\n",
        "from nltk.classify import NaiveBayesClassifier\n",
        "from nltk.corpus import stopwords\n",
        "from nltk import word_tokenize\n",
        "from nltk.tokenize import word_tokenize\n",
        "from nltk.stem import PorterStemmer, WordNetLemmatizer\n",
        "\n",
        "# Machine Learning packages\n",
        "import sklearn\n",
        "from sklearn.feature_extraction.text import CountVectorizer\n",
        "from sklearn.feature_extraction.text import TfidfVectorizer\n",
        "from sklearn.feature_extraction.text import TfidfTransformer\n",
        "import sklearn.cluster as cluster\n",
        "from sklearn.manifold import TSNE\n",
        "\n",
        "# Model training and evaluation\n",
        "from sklearn.model_selection import train_test_split\n",
        "\n",
        "#Models\n",
        "from sklearn.linear_model import LogisticRegression\n",
        "from sklearn.linear_model import SGDClassifier\n",
        "from sklearn.neighbors import KNeighborsClassifier\n",
        "from sklearn.naive_bayes import GaussianNB\n",
        "from sklearn.svm import SVC\n",
        "from sklearn.ensemble import RandomForestClassifier, GradientBoostingClassifier\n",
        "from xgboost import XGBClassifier\n",
        "from xgboost import plot_importance\n",
        "\n",
        "#Metrics\n",
        "from sklearn.metrics import r2_score, mean_squared_error, mean_absolute_error, accuracy_score, balanced_accuracy_score\n",
        "from sklearn.metrics import precision_score, recall_score, f1_score, multilabel_confusion_matrix, confusion_matrix\n",
        "from sklearn.metrics import classification_report\n",
        "\n",
        "# Ignore noise warning\n",
        "import warnings\n",
        "warnings.filterwarnings(\"ignore\")"
      ]
    },
    {
      "cell_type": "code",
      "source": [
        "from google.colab import drive\n",
        "drive.mount('/content/drive')"
      ],
      "metadata": {
        "colab": {
          "base_uri": "https://localhost:8080/"
        },
        "id": "r9r0I0MVORJM",
        "outputId": "c3474010-84f6-4656-871c-7818af588c0e"
      },
      "execution_count": 2,
      "outputs": [
        {
          "output_type": "stream",
          "name": "stdout",
          "text": [
            "Mounted at /content/drive\n"
          ]
        }
      ]
    },
    {
      "cell_type": "code",
      "execution_count": 5,
      "metadata": {
        "id": "bcVR9nCZbrKy",
        "outputId": "24d811ea-7c82-4ed4-ac10-9a2162b1d056",
        "colab": {
          "base_uri": "https://localhost:8080/",
          "height": 206
        }
      },
      "outputs": [
        {
          "output_type": "execute_result",
          "data": {
            "text/plain": [
              "      type                                              posts E-I N-S F-T J-P  \\\n",
              "8670  ISFP  'https://www.youtube.com/watch?v=t8edHB_h908||...   I   S   F   P   \n",
              "8671  ENFP  'So...if this thread already exists someplace ...   E   N   F   P   \n",
              "8672  INTP  'So many questions when i do these things.  I ...   I   N   T   P   \n",
              "8673  INFP  'I am very conflicted right now when it comes ...   I   N   F   P   \n",
              "8674  INFP  'It has been too long since I have been on per...   I   N   F   P   \n",
              "\n",
              "                                          Cleaned_posts  \n",
              "8670  ixfp just because i always think of cats as fi...  \n",
              "8671  soif this thread already exists someplace else...  \n",
              "8672  so many questions when i do these things i wou...  \n",
              "8673  i am very conflicted right now when it comes t...  \n",
              "8674  it has been too long since i have been on pers...  "
            ],
            "text/html": [
              "\n",
              "  <div id=\"df-44a41332-d64c-4684-ac1e-e36f8bd2c96e\">\n",
              "    <div class=\"colab-df-container\">\n",
              "      <div>\n",
              "<style scoped>\n",
              "    .dataframe tbody tr th:only-of-type {\n",
              "        vertical-align: middle;\n",
              "    }\n",
              "\n",
              "    .dataframe tbody tr th {\n",
              "        vertical-align: top;\n",
              "    }\n",
              "\n",
              "    .dataframe thead th {\n",
              "        text-align: right;\n",
              "    }\n",
              "</style>\n",
              "<table border=\"1\" class=\"dataframe\">\n",
              "  <thead>\n",
              "    <tr style=\"text-align: right;\">\n",
              "      <th></th>\n",
              "      <th>type</th>\n",
              "      <th>posts</th>\n",
              "      <th>E-I</th>\n",
              "      <th>N-S</th>\n",
              "      <th>F-T</th>\n",
              "      <th>J-P</th>\n",
              "      <th>Cleaned_posts</th>\n",
              "    </tr>\n",
              "  </thead>\n",
              "  <tbody>\n",
              "    <tr>\n",
              "      <th>8670</th>\n",
              "      <td>ISFP</td>\n",
              "      <td>'https://www.youtube.com/watch?v=t8edHB_h908||...</td>\n",
              "      <td>I</td>\n",
              "      <td>S</td>\n",
              "      <td>F</td>\n",
              "      <td>P</td>\n",
              "      <td>ixfp just because i always think of cats as fi...</td>\n",
              "    </tr>\n",
              "    <tr>\n",
              "      <th>8671</th>\n",
              "      <td>ENFP</td>\n",
              "      <td>'So...if this thread already exists someplace ...</td>\n",
              "      <td>E</td>\n",
              "      <td>N</td>\n",
              "      <td>F</td>\n",
              "      <td>P</td>\n",
              "      <td>soif this thread already exists someplace else...</td>\n",
              "    </tr>\n",
              "    <tr>\n",
              "      <th>8672</th>\n",
              "      <td>INTP</td>\n",
              "      <td>'So many questions when i do these things.  I ...</td>\n",
              "      <td>I</td>\n",
              "      <td>N</td>\n",
              "      <td>T</td>\n",
              "      <td>P</td>\n",
              "      <td>so many questions when i do these things i wou...</td>\n",
              "    </tr>\n",
              "    <tr>\n",
              "      <th>8673</th>\n",
              "      <td>INFP</td>\n",
              "      <td>'I am very conflicted right now when it comes ...</td>\n",
              "      <td>I</td>\n",
              "      <td>N</td>\n",
              "      <td>F</td>\n",
              "      <td>P</td>\n",
              "      <td>i am very conflicted right now when it comes t...</td>\n",
              "    </tr>\n",
              "    <tr>\n",
              "      <th>8674</th>\n",
              "      <td>INFP</td>\n",
              "      <td>'It has been too long since I have been on per...</td>\n",
              "      <td>I</td>\n",
              "      <td>N</td>\n",
              "      <td>F</td>\n",
              "      <td>P</td>\n",
              "      <td>it has been too long since i have been on pers...</td>\n",
              "    </tr>\n",
              "  </tbody>\n",
              "</table>\n",
              "</div>\n",
              "      <button class=\"colab-df-convert\" onclick=\"convertToInteractive('df-44a41332-d64c-4684-ac1e-e36f8bd2c96e')\"\n",
              "              title=\"Convert this dataframe to an interactive table.\"\n",
              "              style=\"display:none;\">\n",
              "        \n",
              "  <svg xmlns=\"http://www.w3.org/2000/svg\" height=\"24px\"viewBox=\"0 0 24 24\"\n",
              "       width=\"24px\">\n",
              "    <path d=\"M0 0h24v24H0V0z\" fill=\"none\"/>\n",
              "    <path d=\"M18.56 5.44l.94 2.06.94-2.06 2.06-.94-2.06-.94-.94-2.06-.94 2.06-2.06.94zm-11 1L8.5 8.5l.94-2.06 2.06-.94-2.06-.94L8.5 2.5l-.94 2.06-2.06.94zm10 10l.94 2.06.94-2.06 2.06-.94-2.06-.94-.94-2.06-.94 2.06-2.06.94z\"/><path d=\"M17.41 7.96l-1.37-1.37c-.4-.4-.92-.59-1.43-.59-.52 0-1.04.2-1.43.59L10.3 9.45l-7.72 7.72c-.78.78-.78 2.05 0 2.83L4 21.41c.39.39.9.59 1.41.59.51 0 1.02-.2 1.41-.59l7.78-7.78 2.81-2.81c.8-.78.8-2.07 0-2.86zM5.41 20L4 18.59l7.72-7.72 1.47 1.35L5.41 20z\"/>\n",
              "  </svg>\n",
              "      </button>\n",
              "      \n",
              "  <style>\n",
              "    .colab-df-container {\n",
              "      display:flex;\n",
              "      flex-wrap:wrap;\n",
              "      gap: 12px;\n",
              "    }\n",
              "\n",
              "    .colab-df-convert {\n",
              "      background-color: #E8F0FE;\n",
              "      border: none;\n",
              "      border-radius: 50%;\n",
              "      cursor: pointer;\n",
              "      display: none;\n",
              "      fill: #1967D2;\n",
              "      height: 32px;\n",
              "      padding: 0 0 0 0;\n",
              "      width: 32px;\n",
              "    }\n",
              "\n",
              "    .colab-df-convert:hover {\n",
              "      background-color: #E2EBFA;\n",
              "      box-shadow: 0px 1px 2px rgba(60, 64, 67, 0.3), 0px 1px 3px 1px rgba(60, 64, 67, 0.15);\n",
              "      fill: #174EA6;\n",
              "    }\n",
              "\n",
              "    [theme=dark] .colab-df-convert {\n",
              "      background-color: #3B4455;\n",
              "      fill: #D2E3FC;\n",
              "    }\n",
              "\n",
              "    [theme=dark] .colab-df-convert:hover {\n",
              "      background-color: #434B5C;\n",
              "      box-shadow: 0px 1px 3px 1px rgba(0, 0, 0, 0.15);\n",
              "      filter: drop-shadow(0px 1px 2px rgba(0, 0, 0, 0.3));\n",
              "      fill: #FFFFFF;\n",
              "    }\n",
              "  </style>\n",
              "\n",
              "      <script>\n",
              "        const buttonEl =\n",
              "          document.querySelector('#df-44a41332-d64c-4684-ac1e-e36f8bd2c96e button.colab-df-convert');\n",
              "        buttonEl.style.display =\n",
              "          google.colab.kernel.accessAllowed ? 'block' : 'none';\n",
              "\n",
              "        async function convertToInteractive(key) {\n",
              "          const element = document.querySelector('#df-44a41332-d64c-4684-ac1e-e36f8bd2c96e');\n",
              "          const dataTable =\n",
              "            await google.colab.kernel.invokeFunction('convertToInteractive',\n",
              "                                                     [key], {});\n",
              "          if (!dataTable) return;\n",
              "\n",
              "          const docLinkHtml = 'Like what you see? Visit the ' +\n",
              "            '<a target=\"_blank\" href=https://colab.research.google.com/notebooks/data_table.ipynb>data table notebook</a>'\n",
              "            + ' to learn more about interactive tables.';\n",
              "          element.innerHTML = '';\n",
              "          dataTable['output_type'] = 'display_data';\n",
              "          await google.colab.output.renderOutput(dataTable, element);\n",
              "          const docLink = document.createElement('div');\n",
              "          docLink.innerHTML = docLinkHtml;\n",
              "          element.appendChild(docLink);\n",
              "        }\n",
              "      </script>\n",
              "    </div>\n",
              "  </div>\n",
              "  "
            ]
          },
          "metadata": {},
          "execution_count": 5
        }
      ],
      "source": [
        "#loading dataset\n",
        "#data_set = pd.read_csv(\"../input/mbti-type/mbti_1.csv\")\n",
        "#data_set = pd.read_csv('/content/drive/MyDrive/New-mbti-df.csv',index_col=[0])\n",
        "data_set = pd.read_csv('/content/drive/MyDrive/Cleaned_MBTI.csv',index_col=[0])\n",
        "data_set.tail()"
      ]
    },
    {
      "cell_type": "code",
      "source": [
        "data_set=data_set[['Cleaned_posts','type']]"
      ],
      "metadata": {
        "id": "jFP3wSWNYarD"
      },
      "execution_count": 6,
      "outputs": []
    },
    {
      "cell_type": "markdown",
      "metadata": {
        "id": "V53I4rU6nfGD"
      },
      "source": [
        "# Exploratory data analysis"
      ]
    },
    {
      "cell_type": "markdown",
      "metadata": {
        "id": "qnZ1cmTckvkS"
      },
      "source": [
        "Checking if there are any missing or null values present in the dataset."
      ]
    },
    {
      "cell_type": "code",
      "execution_count": 7,
      "metadata": {
        "id": "Jqt-_yEhFib5",
        "outputId": "24bcc25a-c1d2-455c-dbf7-896b867f556b",
        "colab": {
          "base_uri": "https://localhost:8080/"
        }
      },
      "outputs": [
        {
          "output_type": "execute_result",
          "data": {
            "text/plain": [
              "Cleaned_posts     True\n",
              "type             False\n",
              "dtype: bool"
            ]
          },
          "metadata": {},
          "execution_count": 7
        }
      ],
      "source": [
        "data_set.isnull().any()"
      ]
    },
    {
      "cell_type": "code",
      "execution_count": 8,
      "metadata": {
        "id": "N8Tny56TbrK0",
        "outputId": "93bd05a8-0d54-4792-ec44-e6a4425725ed",
        "colab": {
          "base_uri": "https://localhost:8080/"
        }
      },
      "outputs": [
        {
          "output_type": "execute_result",
          "data": {
            "text/plain": [
              "(8675, 2)"
            ]
          },
          "metadata": {},
          "execution_count": 8
        }
      ],
      "source": [
        "data_set.shape"
      ]
    },
    {
      "cell_type": "code",
      "execution_count": 9,
      "metadata": {
        "id": "6b-ZzL29jsnO",
        "outputId": "ae40cddf-7576-4674-c6cc-619f2b7b9017",
        "colab": {
          "base_uri": "https://localhost:8080/",
          "height": 175
        }
      },
      "outputs": [
        {
          "output_type": "execute_result",
          "data": {
            "text/plain": [
              "       Cleaned_posts  type\n",
              "count           8662  8675\n",
              "unique          8637    16\n",
              "top                h  INFP\n",
              "freq              11  1832"
            ],
            "text/html": [
              "\n",
              "  <div id=\"df-4f3bec65-df6c-4375-af12-959f7d06af41\">\n",
              "    <div class=\"colab-df-container\">\n",
              "      <div>\n",
              "<style scoped>\n",
              "    .dataframe tbody tr th:only-of-type {\n",
              "        vertical-align: middle;\n",
              "    }\n",
              "\n",
              "    .dataframe tbody tr th {\n",
              "        vertical-align: top;\n",
              "    }\n",
              "\n",
              "    .dataframe thead th {\n",
              "        text-align: right;\n",
              "    }\n",
              "</style>\n",
              "<table border=\"1\" class=\"dataframe\">\n",
              "  <thead>\n",
              "    <tr style=\"text-align: right;\">\n",
              "      <th></th>\n",
              "      <th>Cleaned_posts</th>\n",
              "      <th>type</th>\n",
              "    </tr>\n",
              "  </thead>\n",
              "  <tbody>\n",
              "    <tr>\n",
              "      <th>count</th>\n",
              "      <td>8662</td>\n",
              "      <td>8675</td>\n",
              "    </tr>\n",
              "    <tr>\n",
              "      <th>unique</th>\n",
              "      <td>8637</td>\n",
              "      <td>16</td>\n",
              "    </tr>\n",
              "    <tr>\n",
              "      <th>top</th>\n",
              "      <td>h</td>\n",
              "      <td>INFP</td>\n",
              "    </tr>\n",
              "    <tr>\n",
              "      <th>freq</th>\n",
              "      <td>11</td>\n",
              "      <td>1832</td>\n",
              "    </tr>\n",
              "  </tbody>\n",
              "</table>\n",
              "</div>\n",
              "      <button class=\"colab-df-convert\" onclick=\"convertToInteractive('df-4f3bec65-df6c-4375-af12-959f7d06af41')\"\n",
              "              title=\"Convert this dataframe to an interactive table.\"\n",
              "              style=\"display:none;\">\n",
              "        \n",
              "  <svg xmlns=\"http://www.w3.org/2000/svg\" height=\"24px\"viewBox=\"0 0 24 24\"\n",
              "       width=\"24px\">\n",
              "    <path d=\"M0 0h24v24H0V0z\" fill=\"none\"/>\n",
              "    <path d=\"M18.56 5.44l.94 2.06.94-2.06 2.06-.94-2.06-.94-.94-2.06-.94 2.06-2.06.94zm-11 1L8.5 8.5l.94-2.06 2.06-.94-2.06-.94L8.5 2.5l-.94 2.06-2.06.94zm10 10l.94 2.06.94-2.06 2.06-.94-2.06-.94-.94-2.06-.94 2.06-2.06.94z\"/><path d=\"M17.41 7.96l-1.37-1.37c-.4-.4-.92-.59-1.43-.59-.52 0-1.04.2-1.43.59L10.3 9.45l-7.72 7.72c-.78.78-.78 2.05 0 2.83L4 21.41c.39.39.9.59 1.41.59.51 0 1.02-.2 1.41-.59l7.78-7.78 2.81-2.81c.8-.78.8-2.07 0-2.86zM5.41 20L4 18.59l7.72-7.72 1.47 1.35L5.41 20z\"/>\n",
              "  </svg>\n",
              "      </button>\n",
              "      \n",
              "  <style>\n",
              "    .colab-df-container {\n",
              "      display:flex;\n",
              "      flex-wrap:wrap;\n",
              "      gap: 12px;\n",
              "    }\n",
              "\n",
              "    .colab-df-convert {\n",
              "      background-color: #E8F0FE;\n",
              "      border: none;\n",
              "      border-radius: 50%;\n",
              "      cursor: pointer;\n",
              "      display: none;\n",
              "      fill: #1967D2;\n",
              "      height: 32px;\n",
              "      padding: 0 0 0 0;\n",
              "      width: 32px;\n",
              "    }\n",
              "\n",
              "    .colab-df-convert:hover {\n",
              "      background-color: #E2EBFA;\n",
              "      box-shadow: 0px 1px 2px rgba(60, 64, 67, 0.3), 0px 1px 3px 1px rgba(60, 64, 67, 0.15);\n",
              "      fill: #174EA6;\n",
              "    }\n",
              "\n",
              "    [theme=dark] .colab-df-convert {\n",
              "      background-color: #3B4455;\n",
              "      fill: #D2E3FC;\n",
              "    }\n",
              "\n",
              "    [theme=dark] .colab-df-convert:hover {\n",
              "      background-color: #434B5C;\n",
              "      box-shadow: 0px 1px 3px 1px rgba(0, 0, 0, 0.15);\n",
              "      filter: drop-shadow(0px 1px 2px rgba(0, 0, 0, 0.3));\n",
              "      fill: #FFFFFF;\n",
              "    }\n",
              "  </style>\n",
              "\n",
              "      <script>\n",
              "        const buttonEl =\n",
              "          document.querySelector('#df-4f3bec65-df6c-4375-af12-959f7d06af41 button.colab-df-convert');\n",
              "        buttonEl.style.display =\n",
              "          google.colab.kernel.accessAllowed ? 'block' : 'none';\n",
              "\n",
              "        async function convertToInteractive(key) {\n",
              "          const element = document.querySelector('#df-4f3bec65-df6c-4375-af12-959f7d06af41');\n",
              "          const dataTable =\n",
              "            await google.colab.kernel.invokeFunction('convertToInteractive',\n",
              "                                                     [key], {});\n",
              "          if (!dataTable) return;\n",
              "\n",
              "          const docLinkHtml = 'Like what you see? Visit the ' +\n",
              "            '<a target=\"_blank\" href=https://colab.research.google.com/notebooks/data_table.ipynb>data table notebook</a>'\n",
              "            + ' to learn more about interactive tables.';\n",
              "          element.innerHTML = '';\n",
              "          dataTable['output_type'] = 'display_data';\n",
              "          await google.colab.output.renderOutput(dataTable, element);\n",
              "          const docLink = document.createElement('div');\n",
              "          docLink.innerHTML = docLinkHtml;\n",
              "          element.appendChild(docLink);\n",
              "        }\n",
              "      </script>\n",
              "    </div>\n",
              "  </div>\n",
              "  "
            ]
          },
          "metadata": {},
          "execution_count": 9
        }
      ],
      "source": [
        "data_set.describe(include=['object'])"
      ]
    },
    {
      "cell_type": "markdown",
      "metadata": {
        "id": "lVUGPcZJNn4p"
      },
      "source": [
        "## Splitting into X and Y feature"
      ]
    },
    {
      "cell_type": "code",
      "execution_count": 10,
      "metadata": {
        "id": "fVfBD1qtbrLB"
      },
      "outputs": [],
      "source": [
        "# Vectorizing the posts for the model and filtering Stop-words\n",
        "vect = CountVectorizer(stop_words='english') \n",
        "\n",
        "# Converting posts (or training or X feature) into numerical form by count vectorization\n",
        "train =  vect.fit_transform(data_set[\"Cleaned_posts\"].astype('U'))"
      ]
    },
    {
      "cell_type": "code",
      "execution_count": 11,
      "metadata": {
        "id": "odAs2pbQbrLB",
        "outputId": "bf7185c6-9305-4c31-cf59-48cfe4d23490",
        "colab": {
          "base_uri": "https://localhost:8080/"
        }
      },
      "outputs": [
        {
          "output_type": "execute_result",
          "data": {
            "text/plain": [
              "(8675, 111303)"
            ]
          },
          "metadata": {},
          "execution_count": 11
        }
      ],
      "source": [
        "train.shape"
      ]
    },
    {
      "cell_type": "code",
      "source": [
        "enc = LabelEncoder()\n",
        "data_set['label'] = enc.fit_transform(data_set['type'])\n",
        "\n",
        "target = data_set['label'] "
      ],
      "metadata": {
        "id": "JS0KIC1UPj9n"
      },
      "execution_count": 12,
      "outputs": []
    },
    {
      "cell_type": "code",
      "execution_count": 13,
      "metadata": {
        "id": "Hu4nc7K_brLC",
        "outputId": "fd8089e7-e479-4974-c9dd-29cc6e216ac1",
        "colab": {
          "base_uri": "https://localhost:8080/"
        }
      },
      "outputs": [
        {
          "output_type": "stream",
          "name": "stdout",
          "text": [
            "(6072, 111303) (6072,) (2603, 111303) (2603,)\n"
          ]
        }
      ],
      "source": [
        "X_train, X_test, y_train, y_test = train_test_split(train, target, test_size=0.3, stratify=target, random_state=42)\n",
        "print((X_train.shape),(y_train.shape),(X_test.shape),(y_test.shape))"
      ]
    },
    {
      "cell_type": "markdown",
      "metadata": {
        "id": "irRcQv-7u-KP"
      },
      "source": [
        "**Note:** Algorithms below can be quite time consuming"
      ]
    },
    {
      "cell_type": "code",
      "source": [
        "def Performance_Metrics(y_test,y_pred):\n",
        "    print('-------------------PERFORMANCE METRICS-------------------')\n",
        "    print(\"Accuracy:\",100*accuracy_score(y_test, y_pred))\n",
        "    print('F1 score:', 100*f1_score(y_test, y_pred,average='weighted'))\n",
        "    print('Recall:', 100*recall_score(y_test, y_pred,average='weighted'))\n",
        "    print('Precision:', 100*precision_score(y_test, y_pred, average='weighted'))\n",
        "    print('---------------------------------------------------------')"
      ],
      "metadata": {
        "id": "5zHXfjA7ZZwy"
      },
      "execution_count": 14,
      "outputs": []
    },
    {
      "cell_type": "code",
      "source": [
        "accuracies = {}"
      ],
      "metadata": {
        "id": "1b4t1QblZuA4"
      },
      "execution_count": 15,
      "outputs": []
    },
    {
      "cell_type": "code",
      "source": [
        "def model_building(model,X_train, y_train,X_test,y_test,model_name):\n",
        "  #Fit the Model\n",
        "  model.fit(X_train, y_train)\n",
        "  #Make predictions for test data\n",
        "  Y_pred = model.predict(X_test)\n",
        "  predictions = [round(value) for value in Y_pred]\n",
        "  #Evaluate predictions\n",
        "  accuracy = accuracy_score(y_test, predictions)\n",
        "  accuracies[model_name] = accuracy* 100.0 \n",
        "  print(\"Accuracy: %.2f%%\" % (accuracy * 100.0))\n",
        "  Performance_Metrics(y_test,Y_pred)"
      ],
      "metadata": {
        "id": "vG8lVDmhZu7R"
      },
      "execution_count": 18,
      "outputs": []
    },
    {
      "cell_type": "code",
      "execution_count": 21,
      "metadata": {
        "id": "qKqJyK1bbrLC",
        "outputId": "843c9414-17e6-406d-eb07-5e7b6ad760db",
        "colab": {
          "base_uri": "https://localhost:8080/"
        }
      },
      "outputs": [
        {
          "output_type": "stream",
          "name": "stdout",
          "text": [
            "Accuracy: 31.16%\n",
            "-------------------PERFORMANCE METRICS-------------------\n",
            "Accuracy: 31.156358048405686\n",
            "F1 score: 23.86520461379241\n",
            "Recall: 31.156358048405686\n",
            "Precision: 29.9043462843246\n",
            "---------------------------------------------------------\n"
          ]
        }
      ],
      "source": [
        "#Random Forest\n",
        "random_forest=RandomForestClassifier(n_estimators=100)\n",
        "model_building(random_forest,X_train, y_train,X_test,y_test,'Random Forest')"
      ]
    },
    {
      "cell_type": "code",
      "execution_count": 22,
      "metadata": {
        "id": "pYVAXiR3gZVH",
        "outputId": "9c855999-c468-450d-a69c-ccad5882fe18",
        "colab": {
          "base_uri": "https://localhost:8080/"
        }
      },
      "outputs": [
        {
          "output_type": "stream",
          "name": "stdout",
          "text": [
            "Accuracy: 46.75%\n",
            "-------------------PERFORMANCE METRICS-------------------\n",
            "Accuracy: 46.75374567806377\n",
            "F1 score: 44.83446792506371\n",
            "Recall: 46.75374567806377\n",
            "Precision: 49.11164517959186\n",
            "---------------------------------------------------------\n"
          ]
        }
      ],
      "source": [
        "#XG Boost \n",
        "xgb = XGBClassifier()\n",
        "model_building(xgb,X_train, y_train,X_test,y_test,'XG Boost ')"
      ]
    },
    {
      "cell_type": "code",
      "execution_count": 23,
      "metadata": {
        "id": "MDchbHH7brLF",
        "outputId": "27777696-dfba-4430-fde1-ba927d7cfdf3",
        "colab": {
          "base_uri": "https://localhost:8080/"
        }
      },
      "outputs": [
        {
          "output_type": "stream",
          "name": "stdout",
          "text": [
            "Accuracy: 39.68%\n",
            "-------------------PERFORMANCE METRICS-------------------\n",
            "Accuracy: 39.684978870533996\n",
            "F1 score: 39.34051428510834\n",
            "Recall: 39.684978870533996\n",
            "Precision: 39.73809551335252\n",
            "---------------------------------------------------------\n"
          ]
        }
      ],
      "source": [
        "#Gradient Descent\n",
        "sgd = SGDClassifier(max_iter= 20, tol=None)\n",
        "model_building(sgd,X_train, y_train,X_test,y_test,'Gradient Descent')"
      ]
    },
    {
      "cell_type": "code",
      "execution_count": 24,
      "metadata": {
        "id": "jftEP2WTbrLG",
        "outputId": "edbd9362-0c60-49ac-d708-453cc7e46bfb",
        "colab": {
          "base_uri": "https://localhost:8080/"
        }
      },
      "outputs": [
        {
          "output_type": "stream",
          "name": "stdout",
          "text": [
            "Accuracy: 41.30%\n",
            "-------------------PERFORMANCE METRICS-------------------\n",
            "Accuracy: 41.29850172877449\n",
            "F1 score: 39.592840697999996\n",
            "Recall: 41.29850172877449\n",
            "Precision: 40.163863375685914\n",
            "---------------------------------------------------------\n"
          ]
        }
      ],
      "source": [
        "# Logistic Regression\n",
        "logreg = LogisticRegression()\n",
        "model_building(logreg,X_train, y_train,X_test,y_test,'Logistic Regression')"
      ]
    },
    {
      "cell_type": "code",
      "execution_count": 25,
      "metadata": {
        "id": "2g5h2q7KGlrp",
        "outputId": "1e8d9116-8da3-4bee-e9ce-3398b94e9521",
        "colab": {
          "base_uri": "https://localhost:8080/",
          "height": 175
        }
      },
      "outputs": [
        {
          "output_type": "execute_result",
          "data": {
            "text/plain": [
              "                     Accuracies(%)\n",
              "Random Forest            31.156358\n",
              "XG Boost                 46.753746\n",
              "Gradient Descent         39.684979\n",
              "Logistic Regression      41.298502"
            ],
            "text/html": [
              "\n",
              "  <div id=\"df-9fc91036-116e-4c48-b9f4-e45a701f18de\">\n",
              "    <div class=\"colab-df-container\">\n",
              "      <div>\n",
              "<style scoped>\n",
              "    .dataframe tbody tr th:only-of-type {\n",
              "        vertical-align: middle;\n",
              "    }\n",
              "\n",
              "    .dataframe tbody tr th {\n",
              "        vertical-align: top;\n",
              "    }\n",
              "\n",
              "    .dataframe thead th {\n",
              "        text-align: right;\n",
              "    }\n",
              "</style>\n",
              "<table border=\"1\" class=\"dataframe\">\n",
              "  <thead>\n",
              "    <tr style=\"text-align: right;\">\n",
              "      <th></th>\n",
              "      <th>Accuracies(%)</th>\n",
              "    </tr>\n",
              "  </thead>\n",
              "  <tbody>\n",
              "    <tr>\n",
              "      <th>Random Forest</th>\n",
              "      <td>31.156358</td>\n",
              "    </tr>\n",
              "    <tr>\n",
              "      <th>XG Boost</th>\n",
              "      <td>46.753746</td>\n",
              "    </tr>\n",
              "    <tr>\n",
              "      <th>Gradient Descent</th>\n",
              "      <td>39.684979</td>\n",
              "    </tr>\n",
              "    <tr>\n",
              "      <th>Logistic Regression</th>\n",
              "      <td>41.298502</td>\n",
              "    </tr>\n",
              "  </tbody>\n",
              "</table>\n",
              "</div>\n",
              "      <button class=\"colab-df-convert\" onclick=\"convertToInteractive('df-9fc91036-116e-4c48-b9f4-e45a701f18de')\"\n",
              "              title=\"Convert this dataframe to an interactive table.\"\n",
              "              style=\"display:none;\">\n",
              "        \n",
              "  <svg xmlns=\"http://www.w3.org/2000/svg\" height=\"24px\"viewBox=\"0 0 24 24\"\n",
              "       width=\"24px\">\n",
              "    <path d=\"M0 0h24v24H0V0z\" fill=\"none\"/>\n",
              "    <path d=\"M18.56 5.44l.94 2.06.94-2.06 2.06-.94-2.06-.94-.94-2.06-.94 2.06-2.06.94zm-11 1L8.5 8.5l.94-2.06 2.06-.94-2.06-.94L8.5 2.5l-.94 2.06-2.06.94zm10 10l.94 2.06.94-2.06 2.06-.94-2.06-.94-.94-2.06-.94 2.06-2.06.94z\"/><path d=\"M17.41 7.96l-1.37-1.37c-.4-.4-.92-.59-1.43-.59-.52 0-1.04.2-1.43.59L10.3 9.45l-7.72 7.72c-.78.78-.78 2.05 0 2.83L4 21.41c.39.39.9.59 1.41.59.51 0 1.02-.2 1.41-.59l7.78-7.78 2.81-2.81c.8-.78.8-2.07 0-2.86zM5.41 20L4 18.59l7.72-7.72 1.47 1.35L5.41 20z\"/>\n",
              "  </svg>\n",
              "      </button>\n",
              "      \n",
              "  <style>\n",
              "    .colab-df-container {\n",
              "      display:flex;\n",
              "      flex-wrap:wrap;\n",
              "      gap: 12px;\n",
              "    }\n",
              "\n",
              "    .colab-df-convert {\n",
              "      background-color: #E8F0FE;\n",
              "      border: none;\n",
              "      border-radius: 50%;\n",
              "      cursor: pointer;\n",
              "      display: none;\n",
              "      fill: #1967D2;\n",
              "      height: 32px;\n",
              "      padding: 0 0 0 0;\n",
              "      width: 32px;\n",
              "    }\n",
              "\n",
              "    .colab-df-convert:hover {\n",
              "      background-color: #E2EBFA;\n",
              "      box-shadow: 0px 1px 2px rgba(60, 64, 67, 0.3), 0px 1px 3px 1px rgba(60, 64, 67, 0.15);\n",
              "      fill: #174EA6;\n",
              "    }\n",
              "\n",
              "    [theme=dark] .colab-df-convert {\n",
              "      background-color: #3B4455;\n",
              "      fill: #D2E3FC;\n",
              "    }\n",
              "\n",
              "    [theme=dark] .colab-df-convert:hover {\n",
              "      background-color: #434B5C;\n",
              "      box-shadow: 0px 1px 3px 1px rgba(0, 0, 0, 0.15);\n",
              "      filter: drop-shadow(0px 1px 2px rgba(0, 0, 0, 0.3));\n",
              "      fill: #FFFFFF;\n",
              "    }\n",
              "  </style>\n",
              "\n",
              "      <script>\n",
              "        const buttonEl =\n",
              "          document.querySelector('#df-9fc91036-116e-4c48-b9f4-e45a701f18de button.colab-df-convert');\n",
              "        buttonEl.style.display =\n",
              "          google.colab.kernel.accessAllowed ? 'block' : 'none';\n",
              "\n",
              "        async function convertToInteractive(key) {\n",
              "          const element = document.querySelector('#df-9fc91036-116e-4c48-b9f4-e45a701f18de');\n",
              "          const dataTable =\n",
              "            await google.colab.kernel.invokeFunction('convertToInteractive',\n",
              "                                                     [key], {});\n",
              "          if (!dataTable) return;\n",
              "\n",
              "          const docLinkHtml = 'Like what you see? Visit the ' +\n",
              "            '<a target=\"_blank\" href=https://colab.research.google.com/notebooks/data_table.ipynb>data table notebook</a>'\n",
              "            + ' to learn more about interactive tables.';\n",
              "          element.innerHTML = '';\n",
              "          dataTable['output_type'] = 'display_data';\n",
              "          await google.colab.output.renderOutput(dataTable, element);\n",
              "          const docLink = document.createElement('div');\n",
              "          docLink.innerHTML = docLinkHtml;\n",
              "          element.appendChild(docLink);\n",
              "        }\n",
              "      </script>\n",
              "    </div>\n",
              "  </div>\n",
              "  "
            ]
          },
          "metadata": {},
          "execution_count": 25
        }
      ],
      "source": [
        "pd.DataFrame.from_dict(accuracies, orient='index', columns=['Accuracies(%)'])"
      ]
    },
    {
      "cell_type": "markdown",
      "metadata": {
        "id": "N6uVuHxQdg8z"
      },
      "source": [
        "# Train Each Personality Dimension Seperately\n"
      ]
    },
    {
      "cell_type": "code",
      "execution_count": 27,
      "metadata": {
        "colab": {
          "base_uri": "https://localhost:8080/",
          "height": 424
        },
        "id": "gBgWudCkNL7Y",
        "outputId": "5bd4c5a5-fa92-474e-8f33-0fd8f22d7f6f"
      },
      "outputs": [
        {
          "output_type": "execute_result",
          "data": {
            "text/plain": [
              "                                            Cleaned_posts  type\n",
              "0       know tool use interaction people excuse antiso...  INTJ\n",
              "1       rap music ehh opp yeah know valid well know fa...  INTJ\n",
              "2       preferably p hd low except wew lad video p min...  INTJ\n",
              "3       drink like wish could drink red wine give head...  INTJ\n",
              "4       space program ah bad deal meing freelance max ...  INTJ\n",
              "...                                                   ...   ...\n",
              "106062  stay frustrate world life want take long nap w...  INFP\n",
              "106063  fizzle around time mention sure mistake thing ...  INFP\n",
              "106064  schedule modify hey w strong wing understand p...  INFP\n",
              "106065  since january busy schedule able spend little ...  INFP\n",
              "106066  feel like men good problem tell parent want te...  INFP\n",
              "\n",
              "[106067 rows x 2 columns]"
            ],
            "text/html": [
              "\n",
              "  <div id=\"df-17518a7e-7c85-4b3d-a1af-3e32e2d3ed11\">\n",
              "    <div class=\"colab-df-container\">\n",
              "      <div>\n",
              "<style scoped>\n",
              "    .dataframe tbody tr th:only-of-type {\n",
              "        vertical-align: middle;\n",
              "    }\n",
              "\n",
              "    .dataframe tbody tr th {\n",
              "        vertical-align: top;\n",
              "    }\n",
              "\n",
              "    .dataframe thead th {\n",
              "        text-align: right;\n",
              "    }\n",
              "</style>\n",
              "<table border=\"1\" class=\"dataframe\">\n",
              "  <thead>\n",
              "    <tr style=\"text-align: right;\">\n",
              "      <th></th>\n",
              "      <th>Cleaned_posts</th>\n",
              "      <th>type</th>\n",
              "    </tr>\n",
              "  </thead>\n",
              "  <tbody>\n",
              "    <tr>\n",
              "      <th>0</th>\n",
              "      <td>know tool use interaction people excuse antiso...</td>\n",
              "      <td>INTJ</td>\n",
              "    </tr>\n",
              "    <tr>\n",
              "      <th>1</th>\n",
              "      <td>rap music ehh opp yeah know valid well know fa...</td>\n",
              "      <td>INTJ</td>\n",
              "    </tr>\n",
              "    <tr>\n",
              "      <th>2</th>\n",
              "      <td>preferably p hd low except wew lad video p min...</td>\n",
              "      <td>INTJ</td>\n",
              "    </tr>\n",
              "    <tr>\n",
              "      <th>3</th>\n",
              "      <td>drink like wish could drink red wine give head...</td>\n",
              "      <td>INTJ</td>\n",
              "    </tr>\n",
              "    <tr>\n",
              "      <th>4</th>\n",
              "      <td>space program ah bad deal meing freelance max ...</td>\n",
              "      <td>INTJ</td>\n",
              "    </tr>\n",
              "    <tr>\n",
              "      <th>...</th>\n",
              "      <td>...</td>\n",
              "      <td>...</td>\n",
              "    </tr>\n",
              "    <tr>\n",
              "      <th>106062</th>\n",
              "      <td>stay frustrate world life want take long nap w...</td>\n",
              "      <td>INFP</td>\n",
              "    </tr>\n",
              "    <tr>\n",
              "      <th>106063</th>\n",
              "      <td>fizzle around time mention sure mistake thing ...</td>\n",
              "      <td>INFP</td>\n",
              "    </tr>\n",
              "    <tr>\n",
              "      <th>106064</th>\n",
              "      <td>schedule modify hey w strong wing understand p...</td>\n",
              "      <td>INFP</td>\n",
              "    </tr>\n",
              "    <tr>\n",
              "      <th>106065</th>\n",
              "      <td>since january busy schedule able spend little ...</td>\n",
              "      <td>INFP</td>\n",
              "    </tr>\n",
              "    <tr>\n",
              "      <th>106066</th>\n",
              "      <td>feel like men good problem tell parent want te...</td>\n",
              "      <td>INFP</td>\n",
              "    </tr>\n",
              "  </tbody>\n",
              "</table>\n",
              "<p>106067 rows × 2 columns</p>\n",
              "</div>\n",
              "      <button class=\"colab-df-convert\" onclick=\"convertToInteractive('df-17518a7e-7c85-4b3d-a1af-3e32e2d3ed11')\"\n",
              "              title=\"Convert this dataframe to an interactive table.\"\n",
              "              style=\"display:none;\">\n",
              "        \n",
              "  <svg xmlns=\"http://www.w3.org/2000/svg\" height=\"24px\"viewBox=\"0 0 24 24\"\n",
              "       width=\"24px\">\n",
              "    <path d=\"M0 0h24v24H0V0z\" fill=\"none\"/>\n",
              "    <path d=\"M18.56 5.44l.94 2.06.94-2.06 2.06-.94-2.06-.94-.94-2.06-.94 2.06-2.06.94zm-11 1L8.5 8.5l.94-2.06 2.06-.94-2.06-.94L8.5 2.5l-.94 2.06-2.06.94zm10 10l.94 2.06.94-2.06 2.06-.94-2.06-.94-.94-2.06-.94 2.06-2.06.94z\"/><path d=\"M17.41 7.96l-1.37-1.37c-.4-.4-.92-.59-1.43-.59-.52 0-1.04.2-1.43.59L10.3 9.45l-7.72 7.72c-.78.78-.78 2.05 0 2.83L4 21.41c.39.39.9.59 1.41.59.51 0 1.02-.2 1.41-.59l7.78-7.78 2.81-2.81c.8-.78.8-2.07 0-2.86zM5.41 20L4 18.59l7.72-7.72 1.47 1.35L5.41 20z\"/>\n",
              "  </svg>\n",
              "      </button>\n",
              "      \n",
              "  <style>\n",
              "    .colab-df-container {\n",
              "      display:flex;\n",
              "      flex-wrap:wrap;\n",
              "      gap: 12px;\n",
              "    }\n",
              "\n",
              "    .colab-df-convert {\n",
              "      background-color: #E8F0FE;\n",
              "      border: none;\n",
              "      border-radius: 50%;\n",
              "      cursor: pointer;\n",
              "      display: none;\n",
              "      fill: #1967D2;\n",
              "      height: 32px;\n",
              "      padding: 0 0 0 0;\n",
              "      width: 32px;\n",
              "    }\n",
              "\n",
              "    .colab-df-convert:hover {\n",
              "      background-color: #E2EBFA;\n",
              "      box-shadow: 0px 1px 2px rgba(60, 64, 67, 0.3), 0px 1px 3px 1px rgba(60, 64, 67, 0.15);\n",
              "      fill: #174EA6;\n",
              "    }\n",
              "\n",
              "    [theme=dark] .colab-df-convert {\n",
              "      background-color: #3B4455;\n",
              "      fill: #D2E3FC;\n",
              "    }\n",
              "\n",
              "    [theme=dark] .colab-df-convert:hover {\n",
              "      background-color: #434B5C;\n",
              "      box-shadow: 0px 1px 3px 1px rgba(0, 0, 0, 0.15);\n",
              "      filter: drop-shadow(0px 1px 2px rgba(0, 0, 0, 0.3));\n",
              "      fill: #FFFFFF;\n",
              "    }\n",
              "  </style>\n",
              "\n",
              "      <script>\n",
              "        const buttonEl =\n",
              "          document.querySelector('#df-17518a7e-7c85-4b3d-a1af-3e32e2d3ed11 button.colab-df-convert');\n",
              "        buttonEl.style.display =\n",
              "          google.colab.kernel.accessAllowed ? 'block' : 'none';\n",
              "\n",
              "        async function convertToInteractive(key) {\n",
              "          const element = document.querySelector('#df-17518a7e-7c85-4b3d-a1af-3e32e2d3ed11');\n",
              "          const dataTable =\n",
              "            await google.colab.kernel.invokeFunction('convertToInteractive',\n",
              "                                                     [key], {});\n",
              "          if (!dataTable) return;\n",
              "\n",
              "          const docLinkHtml = 'Like what you see? Visit the ' +\n",
              "            '<a target=\"_blank\" href=https://colab.research.google.com/notebooks/data_table.ipynb>data table notebook</a>'\n",
              "            + ' to learn more about interactive tables.';\n",
              "          element.innerHTML = '';\n",
              "          dataTable['output_type'] = 'display_data';\n",
              "          await google.colab.output.renderOutput(dataTable, element);\n",
              "          const docLink = document.createElement('div');\n",
              "          docLink.innerHTML = docLinkHtml;\n",
              "          element.appendChild(docLink);\n",
              "        }\n",
              "      </script>\n",
              "    </div>\n",
              "  </div>\n",
              "  "
            ]
          },
          "metadata": {},
          "execution_count": 27
        }
      ],
      "source": [
        "data = pd.read_csv('/content/drive/MyDrive/New-mbti-df.csv',index_col=[0])\n",
        "data"
      ]
    },
    {
      "cell_type": "code",
      "execution_count": 28,
      "metadata": {
        "id": "CGLvGfPJ446Z",
        "outputId": "b5d75883-b71d-4da2-835e-829509b7e48d",
        "colab": {
          "base_uri": "https://localhost:8080/",
          "height": 206
        }
      },
      "outputs": [
        {
          "output_type": "execute_result",
          "data": {
            "text/plain": [
              "                                       Cleaned_posts  type  I/E  N/S  T/F  J/P\n",
              "0  know tool use interaction people excuse antiso...  INTJ    1    1    1    1\n",
              "1  rap music ehh opp yeah know valid well know fa...  INTJ    1    1    1    1\n",
              "2  preferably p hd low except wew lad video p min...  INTJ    1    1    1    1\n",
              "3  drink like wish could drink red wine give head...  INTJ    1    1    1    1\n",
              "4  space program ah bad deal meing freelance max ...  INTJ    1    1    1    1"
            ],
            "text/html": [
              "\n",
              "  <div id=\"df-232720ed-ced4-4134-a7ab-cc800f1a4d83\">\n",
              "    <div class=\"colab-df-container\">\n",
              "      <div>\n",
              "<style scoped>\n",
              "    .dataframe tbody tr th:only-of-type {\n",
              "        vertical-align: middle;\n",
              "    }\n",
              "\n",
              "    .dataframe tbody tr th {\n",
              "        vertical-align: top;\n",
              "    }\n",
              "\n",
              "    .dataframe thead th {\n",
              "        text-align: right;\n",
              "    }\n",
              "</style>\n",
              "<table border=\"1\" class=\"dataframe\">\n",
              "  <thead>\n",
              "    <tr style=\"text-align: right;\">\n",
              "      <th></th>\n",
              "      <th>Cleaned_posts</th>\n",
              "      <th>type</th>\n",
              "      <th>I/E</th>\n",
              "      <th>N/S</th>\n",
              "      <th>T/F</th>\n",
              "      <th>J/P</th>\n",
              "    </tr>\n",
              "  </thead>\n",
              "  <tbody>\n",
              "    <tr>\n",
              "      <th>0</th>\n",
              "      <td>know tool use interaction people excuse antiso...</td>\n",
              "      <td>INTJ</td>\n",
              "      <td>1</td>\n",
              "      <td>1</td>\n",
              "      <td>1</td>\n",
              "      <td>1</td>\n",
              "    </tr>\n",
              "    <tr>\n",
              "      <th>1</th>\n",
              "      <td>rap music ehh opp yeah know valid well know fa...</td>\n",
              "      <td>INTJ</td>\n",
              "      <td>1</td>\n",
              "      <td>1</td>\n",
              "      <td>1</td>\n",
              "      <td>1</td>\n",
              "    </tr>\n",
              "    <tr>\n",
              "      <th>2</th>\n",
              "      <td>preferably p hd low except wew lad video p min...</td>\n",
              "      <td>INTJ</td>\n",
              "      <td>1</td>\n",
              "      <td>1</td>\n",
              "      <td>1</td>\n",
              "      <td>1</td>\n",
              "    </tr>\n",
              "    <tr>\n",
              "      <th>3</th>\n",
              "      <td>drink like wish could drink red wine give head...</td>\n",
              "      <td>INTJ</td>\n",
              "      <td>1</td>\n",
              "      <td>1</td>\n",
              "      <td>1</td>\n",
              "      <td>1</td>\n",
              "    </tr>\n",
              "    <tr>\n",
              "      <th>4</th>\n",
              "      <td>space program ah bad deal meing freelance max ...</td>\n",
              "      <td>INTJ</td>\n",
              "      <td>1</td>\n",
              "      <td>1</td>\n",
              "      <td>1</td>\n",
              "      <td>1</td>\n",
              "    </tr>\n",
              "  </tbody>\n",
              "</table>\n",
              "</div>\n",
              "      <button class=\"colab-df-convert\" onclick=\"convertToInteractive('df-232720ed-ced4-4134-a7ab-cc800f1a4d83')\"\n",
              "              title=\"Convert this dataframe to an interactive table.\"\n",
              "              style=\"display:none;\">\n",
              "        \n",
              "  <svg xmlns=\"http://www.w3.org/2000/svg\" height=\"24px\"viewBox=\"0 0 24 24\"\n",
              "       width=\"24px\">\n",
              "    <path d=\"M0 0h24v24H0V0z\" fill=\"none\"/>\n",
              "    <path d=\"M18.56 5.44l.94 2.06.94-2.06 2.06-.94-2.06-.94-.94-2.06-.94 2.06-2.06.94zm-11 1L8.5 8.5l.94-2.06 2.06-.94-2.06-.94L8.5 2.5l-.94 2.06-2.06.94zm10 10l.94 2.06.94-2.06 2.06-.94-2.06-.94-.94-2.06-.94 2.06-2.06.94z\"/><path d=\"M17.41 7.96l-1.37-1.37c-.4-.4-.92-.59-1.43-.59-.52 0-1.04.2-1.43.59L10.3 9.45l-7.72 7.72c-.78.78-.78 2.05 0 2.83L4 21.41c.39.39.9.59 1.41.59.51 0 1.02-.2 1.41-.59l7.78-7.78 2.81-2.81c.8-.78.8-2.07 0-2.86zM5.41 20L4 18.59l7.72-7.72 1.47 1.35L5.41 20z\"/>\n",
              "  </svg>\n",
              "      </button>\n",
              "      \n",
              "  <style>\n",
              "    .colab-df-container {\n",
              "      display:flex;\n",
              "      flex-wrap:wrap;\n",
              "      gap: 12px;\n",
              "    }\n",
              "\n",
              "    .colab-df-convert {\n",
              "      background-color: #E8F0FE;\n",
              "      border: none;\n",
              "      border-radius: 50%;\n",
              "      cursor: pointer;\n",
              "      display: none;\n",
              "      fill: #1967D2;\n",
              "      height: 32px;\n",
              "      padding: 0 0 0 0;\n",
              "      width: 32px;\n",
              "    }\n",
              "\n",
              "    .colab-df-convert:hover {\n",
              "      background-color: #E2EBFA;\n",
              "      box-shadow: 0px 1px 2px rgba(60, 64, 67, 0.3), 0px 1px 3px 1px rgba(60, 64, 67, 0.15);\n",
              "      fill: #174EA6;\n",
              "    }\n",
              "\n",
              "    [theme=dark] .colab-df-convert {\n",
              "      background-color: #3B4455;\n",
              "      fill: #D2E3FC;\n",
              "    }\n",
              "\n",
              "    [theme=dark] .colab-df-convert:hover {\n",
              "      background-color: #434B5C;\n",
              "      box-shadow: 0px 1px 3px 1px rgba(0, 0, 0, 0.15);\n",
              "      filter: drop-shadow(0px 1px 2px rgba(0, 0, 0, 0.3));\n",
              "      fill: #FFFFFF;\n",
              "    }\n",
              "  </style>\n",
              "\n",
              "      <script>\n",
              "        const buttonEl =\n",
              "          document.querySelector('#df-232720ed-ced4-4134-a7ab-cc800f1a4d83 button.colab-df-convert');\n",
              "        buttonEl.style.display =\n",
              "          google.colab.kernel.accessAllowed ? 'block' : 'none';\n",
              "\n",
              "        async function convertToInteractive(key) {\n",
              "          const element = document.querySelector('#df-232720ed-ced4-4134-a7ab-cc800f1a4d83');\n",
              "          const dataTable =\n",
              "            await google.colab.kernel.invokeFunction('convertToInteractive',\n",
              "                                                     [key], {});\n",
              "          if (!dataTable) return;\n",
              "\n",
              "          const docLinkHtml = 'Like what you see? Visit the ' +\n",
              "            '<a target=\"_blank\" href=https://colab.research.google.com/notebooks/data_table.ipynb>data table notebook</a>'\n",
              "            + ' to learn more about interactive tables.';\n",
              "          element.innerHTML = '';\n",
              "          dataTable['output_type'] = 'display_data';\n",
              "          await google.colab.output.renderOutput(dataTable, element);\n",
              "          const docLink = document.createElement('div');\n",
              "          docLink.innerHTML = docLinkHtml;\n",
              "          element.appendChild(docLink);\n",
              "        }\n",
              "      </script>\n",
              "    </div>\n",
              "  </div>\n",
              "  "
            ]
          },
          "metadata": {},
          "execution_count": 28
        }
      ],
      "source": [
        "#Add Attributes For personality type indicators\n",
        "def get_types(row):\n",
        "    t=row['type']\n",
        "\n",
        "    I = 0; N = 0\n",
        "    T = 0; J = 0\n",
        "    \n",
        "    if t[0] == 'I': I = 1\n",
        "    elif t[0] == 'E': I = 0\n",
        "    else: print('I-E not found') \n",
        "        \n",
        "    if t[1] == 'N': N = 1\n",
        "    elif t[1] == 'S': N = 0\n",
        "    else: print('N-S not found')\n",
        "        \n",
        "    if t[2] == 'T': T = 1\n",
        "    elif t[2] == 'F': T = 0\n",
        "    else: print('T-F not found')\n",
        "        \n",
        "    if t[3] == 'J': J = 1\n",
        "    elif t[3] == 'P': J = 0\n",
        "    else: print('J-P not found')\n",
        "    return pd.Series( {'I/E':I, 'N/S':N , 'T/F': T, 'J/P': J }) \n",
        "\n",
        "data = data.join(data.apply (lambda row: get_types (row),axis=1))\n",
        "data.head(5)"
      ]
    },
    {
      "cell_type": "code",
      "source": [
        "data = data.sample(frac=1)\n",
        "data.head()"
      ],
      "metadata": {
        "colab": {
          "base_uri": "https://localhost:8080/",
          "height": 206
        },
        "id": "yirNEnt1ZIBR",
        "outputId": "455b45ad-7b6e-402d-ad57-1c2176b5c30f"
      },
      "execution_count": 29,
      "outputs": [
        {
          "output_type": "execute_result",
          "data": {
            "text/plain": [
              "                                            Cleaned_posts  type  I/E  N/S  \\\n",
              "58897   fail determine whether masterfully medium use ...  ENFP    0    1   \n",
              "87358   move away upset say something year late start ...  INFJ    1    1   \n",
              "34332   participation keep point save small talk perso...  INTP    1    1   \n",
              "105660  friendly compassionate wallflower homebody sil...  INFP    1    1   \n",
              "16444   best guess holmes p house probably holmes perh...  INTJ    1    1   \n",
              "\n",
              "        T/F  J/P  \n",
              "58897     0    0  \n",
              "87358     0    1  \n",
              "34332     1    0  \n",
              "105660    0    0  \n",
              "16444     1    1  "
            ],
            "text/html": [
              "\n",
              "  <div id=\"df-24583d84-4ec5-4ce1-ba1d-7bbc82a7ea3c\">\n",
              "    <div class=\"colab-df-container\">\n",
              "      <div>\n",
              "<style scoped>\n",
              "    .dataframe tbody tr th:only-of-type {\n",
              "        vertical-align: middle;\n",
              "    }\n",
              "\n",
              "    .dataframe tbody tr th {\n",
              "        vertical-align: top;\n",
              "    }\n",
              "\n",
              "    .dataframe thead th {\n",
              "        text-align: right;\n",
              "    }\n",
              "</style>\n",
              "<table border=\"1\" class=\"dataframe\">\n",
              "  <thead>\n",
              "    <tr style=\"text-align: right;\">\n",
              "      <th></th>\n",
              "      <th>Cleaned_posts</th>\n",
              "      <th>type</th>\n",
              "      <th>I/E</th>\n",
              "      <th>N/S</th>\n",
              "      <th>T/F</th>\n",
              "      <th>J/P</th>\n",
              "    </tr>\n",
              "  </thead>\n",
              "  <tbody>\n",
              "    <tr>\n",
              "      <th>58897</th>\n",
              "      <td>fail determine whether masterfully medium use ...</td>\n",
              "      <td>ENFP</td>\n",
              "      <td>0</td>\n",
              "      <td>1</td>\n",
              "      <td>0</td>\n",
              "      <td>0</td>\n",
              "    </tr>\n",
              "    <tr>\n",
              "      <th>87358</th>\n",
              "      <td>move away upset say something year late start ...</td>\n",
              "      <td>INFJ</td>\n",
              "      <td>1</td>\n",
              "      <td>1</td>\n",
              "      <td>0</td>\n",
              "      <td>1</td>\n",
              "    </tr>\n",
              "    <tr>\n",
              "      <th>34332</th>\n",
              "      <td>participation keep point save small talk perso...</td>\n",
              "      <td>INTP</td>\n",
              "      <td>1</td>\n",
              "      <td>1</td>\n",
              "      <td>1</td>\n",
              "      <td>0</td>\n",
              "    </tr>\n",
              "    <tr>\n",
              "      <th>105660</th>\n",
              "      <td>friendly compassionate wallflower homebody sil...</td>\n",
              "      <td>INFP</td>\n",
              "      <td>1</td>\n",
              "      <td>1</td>\n",
              "      <td>0</td>\n",
              "      <td>0</td>\n",
              "    </tr>\n",
              "    <tr>\n",
              "      <th>16444</th>\n",
              "      <td>best guess holmes p house probably holmes perh...</td>\n",
              "      <td>INTJ</td>\n",
              "      <td>1</td>\n",
              "      <td>1</td>\n",
              "      <td>1</td>\n",
              "      <td>1</td>\n",
              "    </tr>\n",
              "  </tbody>\n",
              "</table>\n",
              "</div>\n",
              "      <button class=\"colab-df-convert\" onclick=\"convertToInteractive('df-24583d84-4ec5-4ce1-ba1d-7bbc82a7ea3c')\"\n",
              "              title=\"Convert this dataframe to an interactive table.\"\n",
              "              style=\"display:none;\">\n",
              "        \n",
              "  <svg xmlns=\"http://www.w3.org/2000/svg\" height=\"24px\"viewBox=\"0 0 24 24\"\n",
              "       width=\"24px\">\n",
              "    <path d=\"M0 0h24v24H0V0z\" fill=\"none\"/>\n",
              "    <path d=\"M18.56 5.44l.94 2.06.94-2.06 2.06-.94-2.06-.94-.94-2.06-.94 2.06-2.06.94zm-11 1L8.5 8.5l.94-2.06 2.06-.94-2.06-.94L8.5 2.5l-.94 2.06-2.06.94zm10 10l.94 2.06.94-2.06 2.06-.94-2.06-.94-.94-2.06-.94 2.06-2.06.94z\"/><path d=\"M17.41 7.96l-1.37-1.37c-.4-.4-.92-.59-1.43-.59-.52 0-1.04.2-1.43.59L10.3 9.45l-7.72 7.72c-.78.78-.78 2.05 0 2.83L4 21.41c.39.39.9.59 1.41.59.51 0 1.02-.2 1.41-.59l7.78-7.78 2.81-2.81c.8-.78.8-2.07 0-2.86zM5.41 20L4 18.59l7.72-7.72 1.47 1.35L5.41 20z\"/>\n",
              "  </svg>\n",
              "      </button>\n",
              "      \n",
              "  <style>\n",
              "    .colab-df-container {\n",
              "      display:flex;\n",
              "      flex-wrap:wrap;\n",
              "      gap: 12px;\n",
              "    }\n",
              "\n",
              "    .colab-df-convert {\n",
              "      background-color: #E8F0FE;\n",
              "      border: none;\n",
              "      border-radius: 50%;\n",
              "      cursor: pointer;\n",
              "      display: none;\n",
              "      fill: #1967D2;\n",
              "      height: 32px;\n",
              "      padding: 0 0 0 0;\n",
              "      width: 32px;\n",
              "    }\n",
              "\n",
              "    .colab-df-convert:hover {\n",
              "      background-color: #E2EBFA;\n",
              "      box-shadow: 0px 1px 2px rgba(60, 64, 67, 0.3), 0px 1px 3px 1px rgba(60, 64, 67, 0.15);\n",
              "      fill: #174EA6;\n",
              "    }\n",
              "\n",
              "    [theme=dark] .colab-df-convert {\n",
              "      background-color: #3B4455;\n",
              "      fill: #D2E3FC;\n",
              "    }\n",
              "\n",
              "    [theme=dark] .colab-df-convert:hover {\n",
              "      background-color: #434B5C;\n",
              "      box-shadow: 0px 1px 3px 1px rgba(0, 0, 0, 0.15);\n",
              "      filter: drop-shadow(0px 1px 2px rgba(0, 0, 0, 0.3));\n",
              "      fill: #FFFFFF;\n",
              "    }\n",
              "  </style>\n",
              "\n",
              "      <script>\n",
              "        const buttonEl =\n",
              "          document.querySelector('#df-24583d84-4ec5-4ce1-ba1d-7bbc82a7ea3c button.colab-df-convert');\n",
              "        buttonEl.style.display =\n",
              "          google.colab.kernel.accessAllowed ? 'block' : 'none';\n",
              "\n",
              "        async function convertToInteractive(key) {\n",
              "          const element = document.querySelector('#df-24583d84-4ec5-4ce1-ba1d-7bbc82a7ea3c');\n",
              "          const dataTable =\n",
              "            await google.colab.kernel.invokeFunction('convertToInteractive',\n",
              "                                                     [key], {});\n",
              "          if (!dataTable) return;\n",
              "\n",
              "          const docLinkHtml = 'Like what you see? Visit the ' +\n",
              "            '<a target=\"_blank\" href=https://colab.research.google.com/notebooks/data_table.ipynb>data table notebook</a>'\n",
              "            + ' to learn more about interactive tables.';\n",
              "          element.innerHTML = '';\n",
              "          dataTable['output_type'] = 'display_data';\n",
              "          await google.colab.output.renderOutput(dataTable, element);\n",
              "          const docLink = document.createElement('div');\n",
              "          docLink.innerHTML = docLinkHtml;\n",
              "          element.appendChild(docLink);\n",
              "        }\n",
              "      </script>\n",
              "    </div>\n",
              "  </div>\n",
              "  "
            ]
          },
          "metadata": {},
          "execution_count": 29
        }
      ]
    },
    {
      "cell_type": "code",
      "execution_count": 31,
      "metadata": {
        "id": "n8dwN_8l5Aw7",
        "outputId": "feff2179-5256-4de3-a9b9-62eaeb5388b6",
        "colab": {
          "base_uri": "https://localhost:8080/"
        }
      },
      "outputs": [
        {
          "output_type": "stream",
          "name": "stdout",
          "text": [
            "Introversion (I): 25390 Extroversion (E): 80677\n",
            "Intuition (N): 9201 Sensing (S): 96866\n",
            "Thinking (T): 36864 Feeling (F): 69203\n",
            "Judging (J): 61632 Perceiving (P): 44435\n"
          ]
        }
      ],
      "source": [
        "#No. of posts in one class / Total no. of posts in the other class\n",
        "print (\"Introversion (I):\", data['I/E'].value_counts()[0],\"Extroversion (E):\",data['I/E'].value_counts()[1])\n",
        "print (\"Intuition (N):\", data['N/S'].value_counts()[0],  \"Sensing (S):\", data['N/S'].value_counts()[1])\n",
        "print (\"Thinking (T):\", data['T/F'].value_counts()[0], \"Feeling (F):\" , data['T/F'].value_counts()[1])\n",
        "print (\"Judging (J):\", data['J/P'].value_counts()[0], \"Perceiving (P):\", data['J/P'].value_counts()[1])"
      ]
    },
    {
      "cell_type": "code",
      "execution_count": 32,
      "metadata": {
        "id": "c7uvsPnQ6beY"
      },
      "outputs": [],
      "source": [
        "#Plotting the distribution of each personality type indicator\n",
        "N = 4\n",
        "bottom = (data['I/E'].value_counts()[0], data['N/S'].value_counts()[0], data['T/F'].value_counts()[0], data['J/P'].value_counts()[0])\n",
        "top = (data['I/E'].value_counts()[1], data['N/S'].value_counts()[1], data['T/F'].value_counts()[1], data['J/P'].value_counts()[1])"
      ]
    },
    {
      "cell_type": "code",
      "source": [
        "\n",
        "ind = np.arange(N)  \n",
        "width = 0.6    \n",
        "\n",
        "p1 = plt.bar(ind, bottom, width, label=\"I, N, T, F\")\n",
        "p2 = plt.bar(ind, top, width, bottom=bottom, label=\"E, S, F, P\") \n",
        "\n",
        "plt.title('Distribution accoss types indicators')\n",
        "plt.ylabel('Count')\n",
        "plt.xticks(ind, ('I / E',  'N / S', 'T / F', 'J / P',))\n",
        "plt.legend()\n",
        "\n",
        "plt.show()"
      ],
      "metadata": {
        "colab": {
          "base_uri": "https://localhost:8080/",
          "height": 281
        },
        "id": "8SpGhbvajdRC",
        "outputId": "85ff20db-ab44-423c-89e9-fc085249db10"
      },
      "execution_count": 33,
      "outputs": [
        {
          "output_type": "display_data",
          "data": {
            "text/plain": [
              "<Figure size 432x288 with 1 Axes>"
            ],
            "image/png": "[encoded data removed]"
          },
          "metadata": {
            "needs_background": "light"
          }
        }
      ]
    },
    {
      "cell_type": "code",
      "source": [
        "nltk.download('stopwords')"
      ],
      "metadata": {
        "id": "YS638otGZhgi",
        "colab": {
          "base_uri": "https://localhost:8080/"
        },
        "outputId": "2f982fbb-b93b-4330-982b-0e317e37667a"
      },
      "execution_count": 34,
      "outputs": [
        {
          "output_type": "stream",
          "name": "stderr",
          "text": [
            "[nltk_data] Downloading package stopwords to /root/nltk_data...\n",
            "[nltk_data]   Unzipping corpora/stopwords.zip.\n"
          ]
        },
        {
          "output_type": "execute_result",
          "data": {
            "text/plain": [
              "True"
            ]
          },
          "metadata": {},
          "execution_count": 34
        }
      ]
    },
    {
      "cell_type": "code",
      "execution_count": 38,
      "metadata": {
        "colab": {
          "base_uri": "https://localhost:8080/"
        },
        "id": "0waipog2NL8E",
        "outputId": "355b16cf-d0e8-4a27-bfad-86a6f3ff31cc"
      },
      "outputs": [
        {
          "output_type": "stream",
          "name": "stderr",
          "text": [
            "[nltk_data] Downloading package wordnet to /root/nltk_data...\n"
          ]
        },
        {
          "output_type": "execute_result",
          "data": {
            "text/plain": [
              "True"
            ]
          },
          "metadata": {},
          "execution_count": 38
        }
      ],
      "source": [
        "nltk.download('wordnet')"
      ]
    },
    {
      "cell_type": "code",
      "source": [
        "nltk.download('omw-1.4')"
      ],
      "metadata": {
        "colab": {
          "base_uri": "https://localhost:8080/"
        },
        "id": "oV6ovy19ZoOQ",
        "outputId": "a7f7809b-a33f-42b6-a565-e580097b9260"
      },
      "execution_count": 39,
      "outputs": [
        {
          "output_type": "stream",
          "name": "stderr",
          "text": [
            "[nltk_data] Downloading package omw-1.4 to /root/nltk_data...\n"
          ]
        },
        {
          "output_type": "execute_result",
          "data": {
            "text/plain": [
              "True"
            ]
          },
          "metadata": {},
          "execution_count": 39
        }
      ]
    },
    {
      "cell_type": "code",
      "execution_count": 35,
      "metadata": {
        "id": "TMEG_uSD6yDw"
      },
      "outputs": [],
      "source": [
        "lemmatiser = WordNetLemmatizer()\n",
        "\n",
        "# Remove the stop words for speed \n",
        "useless_words = stopwords.words(\"english\")\n",
        "\n",
        "# Remove these from the posts\n",
        "unique_type_list = ['INFJ', 'ENTP', 'INTP', 'INTJ', 'ENTJ', 'ENFJ', 'INFP', 'ENFP',\n",
        "       'ISFP', 'ISTP', 'ISFJ', 'ISTJ', 'ESTP', 'ESFP', 'ESTJ', 'ESFJ']\n",
        "unique_type_list = [x.lower() for x in unique_type_list]"
      ]
    },
    {
      "cell_type": "markdown",
      "metadata": {
        "id": "J9bKc_Ermp2P"
      },
      "source": [
        "Binarizing the each personality type feature"
      ]
    },
    {
      "cell_type": "code",
      "execution_count": 37,
      "metadata": {
        "id": "HY-kRwtsLyiZ",
        "outputId": "35c631ca-54d0-46ab-a361-c465d704c095",
        "colab": {
          "base_uri": "https://localhost:8080/"
        }
      },
      "outputs": [
        {
          "output_type": "stream",
          "name": "stdout",
          "text": [
            "[[1 0 0 1]\n",
            " [0 0 0 0]\n",
            " [0 0 1 1]\n",
            " ...\n",
            " [0 0 1 1]\n",
            " [0 0 1 0]\n",
            " [0 0 1 1]]\n"
          ]
        }
      ],
      "source": [
        "# Splitting the MBTI personality into 4 letters and binarizing it\n",
        "\n",
        "b_Pers = {'I':0, 'E':1, 'N':0, 'S':1, 'F':0, 'T':1, 'J':0, 'P':1}\n",
        "b_Pers_list = [{0:'I', 1:'E'}, {0:'N', 1:'S'}, {0:'F', 1:'T'}, {0:'J', 1:'P'}]\n",
        "\n",
        "def translate_personality(personality):\n",
        "    # transform mbti to binary vector\n",
        "    return [b_Pers[l] for l in personality]\n",
        "\n",
        "#To show result output for personality prediction\n",
        "def translate_back(personality):\n",
        "    # transform binary vector to mbti personality\n",
        "    s = \"\"\n",
        "    for i, l in enumerate(personality):\n",
        "        s += b_Pers_list[i][l]\n",
        "    return s\n",
        "\n",
        "list_personality_bin = np.array([translate_personality(p) for p in data.type])\n",
        "print(list_personality_bin)"
      ]
    },
    {
      "cell_type": "code",
      "execution_count": 40,
      "metadata": {
        "id": "f7uRW1FF7mRp"
      },
      "outputs": [],
      "source": [
        "def pre_process_text(data, remove_stop_words=True, remove_mbti_profiles=True):\n",
        "  list_personality = []\n",
        "  list_posts = []\n",
        "  len_data = len(data)\n",
        "  i=0\n",
        "  \n",
        "  for row in data.iterrows():\n",
        "      #Remove and clean comments\n",
        "      posts = row[1].Cleaned_posts\n",
        "\n",
        "      #Remove url links \n",
        "      temp = re.sub('http[s]?://(?:[a-zA-Z]|[0-9]|[$-_@.&+]|(?:%[0-9a-fA-F][0-9a-fA-F]))+', ' ', str(posts))\n",
        "\n",
        "      #Remove Non-words - keep only words\n",
        "      temp = re.sub(\"[^a-zA-Z]\", \" \", temp)\n",
        "\n",
        "      # Remove spaces > 1\n",
        "      temp = re.sub(' +', ' ', temp).lower()\n",
        "\n",
        "      #Remove multiple letter repeating words\n",
        "      temp = re.sub(r'([a-z])\\1{2,}[\\s|\\w]*', '', temp)\n",
        "\n",
        "      #Remove stop words\n",
        "      if remove_stop_words:\n",
        "          temp = \" \".join([lemmatiser.lemmatize(w) for w in temp.split(' ') if w not in useless_words])\n",
        "      else:\n",
        "          temp = \" \".join([lemmatiser.lemmatize(w) for w in temp.split(' ')])\n",
        "          \n",
        "      #Remove MBTI personality words from posts\n",
        "      if remove_mbti_profiles:\n",
        "          for t in unique_type_list:\n",
        "              temp = temp.replace(t,\"\")\n",
        "\n",
        "      # transform mbti to binary vector\n",
        "      type_labelized = translate_personality(row[1].type) #or use lab_encoder.transform([row[1].type])[0]\n",
        "      list_personality.append(type_labelized)\n",
        "      # the cleaned data temp is passed here\n",
        "      list_posts.append(temp)\n",
        "\n",
        "  # returns the result\n",
        "  list_posts = np.array(list_posts)\n",
        "  list_personality = np.array(list_personality)\n",
        "  return list_posts, list_personality"
      ]
    },
    {
      "cell_type": "code",
      "source": [
        "\n",
        "list_posts, list_personality  = pre_process_text(data, remove_stop_words=True, remove_mbti_profiles=True)\n"
      ],
      "metadata": {
        "id": "YX8N4sMTkVV_"
      },
      "execution_count": 41,
      "outputs": []
    },
    {
      "cell_type": "code",
      "source": [
        "print(\"\\nPost before preprocessing:\\n\\n\", data.Cleaned_posts[0])\n",
        "print(\"\\nPost after preprocessing:\\n\\n\", list_posts[0])\n"
      ],
      "metadata": {
        "colab": {
          "base_uri": "https://localhost:8080/"
        },
        "id": "7hpoAufSbp0K",
        "outputId": "2ca57718-b1c8-4d60-c319-0b8f733ddb8a"
      },
      "execution_count": 43,
      "outputs": [
        {
          "output_type": "stream",
          "name": "stdout",
          "text": [
            "\n",
            "Post before preprocessing:\n",
            "\n",
            " know tool use interaction people excuse antisocial truly enlighten mastermind know would count pet peeze something time matter people either whether group people mall never see best friend sit outside conversation jsut listen want interject sit formulate say wait inject argument thought find fascinate sit watch people talk people fascinate sit class watch different people find intrigue dad u stand look like line safeway watch people home talk people like think military job people voluntarily go job important show deference endanger live glorify way civilian think pretty ignorant general think military necessary defense mechanism political tactic feel like u specifically invest much money could put money education whatnot though personally sound budget aernative really comment one way base two politician eye year ago come name somewhat important kinda role model nowadays pick keep score individual level mean little vary accord number condition day may score high others low sweat really good cast physiotherapist like fiberglass cast break arm whatever sometimes want take picture beast put someone arm sadly people blind brilliance need tell directly wave arm frantically totally beyond oblivious get good eye contact help lot start find like attention get opposite sex notice however gay men tend little aggressive always walk away flatter like alcohol bad start generally keep go pa run money even mention fact crave cocaine drink political power mainly desire form power okay status still never study day life never learn study feel like real whatever reason college prepare recieve people like depend career introductory course help start rid bike write essay etc choose career least stimulate mind expand perspective reality without college like kiss sound ear yup roll end quite strange confession time mind wish people le judgemental self perceive flaw run situation person confess something expect judge one way another freak realize judge gasp human interpret acknowledgement sign terrible person agree bad impulse ditch safe place quickly become somewhere dump emotional trash gui free interest play role mind noise midnight still go make really cranky lol already know autistic even know asd associate people mind two even remotely similar card conspiracy hallmark post office long enough people whether individual people government conglomerate corporation understand biodiversity something need fund even though make money instead insurance policy fine aka negative external form cost need separate positive surplus cost much thing like seed bank visualize cost percent farm benefit cost yet need fund separately individual farmer individual farmer corporation think well someone else people free rider problem seed bank never get set stuff like government capitalism may provide innovation government set regulation prevent negative consequence unintentional externality seed bank get set half thousand differents solution perhaps general tax commerce usage fee similar california recycle fee electronics form donation pledge system regardless need get seed bank get expert truely know enough need biodiversity seed farm whether enough seed farm different location properly fund amp bsp say expert know enough due single college class involve economics say economic class involve lot history use case study green revolution\n",
            "\n",
            "Post after preprocessing:\n",
            "\n",
            " fail determine whether masterfully medium use find bore discus sort stroke use make unless use figure main question mean another look either enjoy nostalgia stimulate immediate aesthetic notice miss detail additional intricate detail might able tell artist style alone know impossible know point piece find conjecture bite bore try enjoy piece impact issue study first issue study take study consideration people high incivility tend treat bad regardless gender real conclusion disagreeable people dislike shocker second issue female social group organize around friendly competition male social group tend therefore incivility probably perceive woman like mention rly esce like mean fe naturally tune social spectrum ask people feel value compare instinctual sense obviously someone fite recognize importance analyze social spectrum value base may help define value feti user help develop value make efficient harmonious yo immature fi great strenh great weakness like person nice like news agency mean everything value judgment vocal like lend charisma populist appeal sound lot like fact go write something similar first type many introvert quality around people give energy though become depress quickly force alone excessive amount time relate much introvert always extremely quiet around group stranger amongst friend though life party could well friend like constantly convince generally energetic situation could choose run around like crazy person realise ago fit ever since opinion vaping awkward ear piece good answer good answer haha various reason mention girl give vibe interest fair think s guiy flirt intention date well girl texting talk stage guy show interest girl b work mutually agree bad idea girl c long history girl c actually would make since always wrong place wrong time still talk lot geographical distance san diego move la would make u somewhat close girl reason post tx like live la move week work industry share faith political ideology since tx la take slow jump gun tell feel friend basically every major social medium one hint relationship would back college since fall graduate month live la mean since college live four different city denton austin houston la maybe live la awhile able long term relationship know lol hewwo pretty eye yeah fort lack supply lately still try exude like everything dandy keep go honestly note think arrow integration disintegration also affect mbti function loneliness misunderstand lose friend yes frustrate yep rule hard carefully think explain feel think especially particular fascinate also hard time explain feel thought impression type depend much person think feel leak behave person know someone feel think thing really win really know unless tell even someone think win tell come conclusion someone feel win tell either mean tell communicate differently see blast face emotion think process judge think must feel exist without j case poor stand feel like get hit blast white hot furnace think solution lack judgement pick correct one usually smart enough figure work always right judgement call oh feel say okay get half way notice\n"
          ]
        }
      ]
    },
    {
      "cell_type": "markdown",
      "metadata": {
        "id": "JlRm9XSV98EM"
      },
      "source": [
        "\n",
        "**Tf–idf** "
      ]
    },
    {
      "cell_type": "code",
      "execution_count": 44,
      "metadata": {
        "id": "lZzMClBLd04S",
        "outputId": "b6e80f9e-4e9a-498f-97a7-eadfbeb32a12",
        "colab": {
          "base_uri": "https://localhost:8080/"
        }
      },
      "outputs": [
        {
          "output_type": "stream",
          "name": "stdout",
          "text": [
            "Using CountVectorizer :\n",
            "10 feature names can be seen below\n",
            "[(0, 'ability'), (1, 'able'), (2, 'absolutely'), (3, 'accept'), (4, 'accurate'), (5, 'across'), (6, 'act'), (7, 'action'), (8, 'actual'), (9, 'actually')]\n",
            "\n",
            "Using Tf-idf :\n",
            "Now the dataset size is as below\n",
            "(106067, 593)\n"
          ]
        }
      ],
      "source": [
        "# Vectorizing the database posts to a matrix of token counts for the model\n",
        "cntizer = CountVectorizer(analyzer=\"word\", \n",
        "                             max_features=1000,  \n",
        "                             max_df=0.7,\n",
        "                             min_df=0.1) \n",
        "\n",
        "# the feature should be made of word n-gram \n",
        "# Learn the vocabulary dictionary and return term-document matrix\n",
        "print(\"Using CountVectorizer :\")\n",
        "X_cnt = cntizer.fit_transform(list_posts)\n",
        "\n",
        "#The enumerate object yields pairs containing a count and a value (useful for obtaining an indexed list)\n",
        "feature_names = list(enumerate(cntizer.get_feature_names()))\n",
        "print(\"10 feature names can be seen below\")\n",
        "print(feature_names[0:10])\n",
        "\n",
        "# For the Standardization or Feature Scaling Stage :-\n",
        "# Transform the count matrix to a normalized tf or tf-idf representation\n",
        "tfizer = TfidfTransformer()\n",
        "\n",
        "# Learn the idf vector (fit) and transform a count matrix to a tf-idf representation\n",
        "print(\"\\nUsing Tf-idf :\")\n",
        "\n",
        "print(\"Now the dataset size is as below\")\n",
        "X_tfidf =  tfizer.fit_transform(X_cnt).toarray()\n",
        "print(X_tfidf.shape)"
      ]
    },
    {
      "cell_type": "code",
      "execution_count": 45,
      "metadata": {
        "id": "z-d52az-KnGJ",
        "outputId": "fa7424bb-940b-4af1-f91a-89158b6f82f8",
        "colab": {
          "base_uri": "https://localhost:8080/"
        }
      },
      "outputs": [
        {
          "output_type": "execute_result",
          "data": {
            "text/plain": [
              "['type',\n",
              " 'need',\n",
              " 'friend',\n",
              " 'lot',\n",
              " 'use',\n",
              " 'life',\n",
              " 'someone',\n",
              " 'love',\n",
              " 'mean',\n",
              " 'come']"
            ]
          },
          "metadata": {},
          "execution_count": 45
        }
      ],
      "source": [
        "#counting top 10 words\n",
        "reverse_dic = {}\n",
        "for key in cntizer.vocabulary_:\n",
        "    reverse_dic[cntizer.vocabulary_[key]] = key\n",
        "top_10 = np.asarray(np.argsort(np.sum(X_cnt, axis=0))[0,-10:][0, ::-1]).flatten()\n",
        "[reverse_dic[v] for v in top_10] #top_50"
      ]
    },
    {
      "cell_type": "markdown",
      "metadata": {
        "id": "gfE8f1Z9AgWr"
      },
      "source": [
        "X: User Posts in TF-IDF representation\n",
        "\n",
        "Y: Personality type in Binarized MBTI form"
      ]
    },
    {
      "cell_type": "code",
      "execution_count": 46,
      "metadata": {
        "id": "VhrinZwad5wa",
        "outputId": "ef5dd294-a9fc-4869-c9c6-86a9a9252630",
        "colab": {
          "base_uri": "https://localhost:8080/"
        }
      },
      "outputs": [
        {
          "output_type": "stream",
          "name": "stdout",
          "text": [
            "IE: Introversion (I) / Extroversion (E)\n",
            "NS: Intuition (N) / Sensing (S)\n",
            "FT: Feeling (F) / Thinking (T)\n",
            "JP: Judging (J) / Perceiving (P)\n"
          ]
        }
      ],
      "source": [
        "personality_type = [ \"IE: Introversion (I) / Extroversion (E)\", \"NS: Intuition (N) / Sensing (S)\", \n",
        "                   \"FT: Feeling (F) / Thinking (T)\", \"JP: Judging (J) / Perceiving (P)\"  ]\n",
        "\n",
        "for l in range(len(personality_type)):\n",
        "    print(personality_type[l])"
      ]
    },
    {
      "cell_type": "markdown",
      "source": [
        "TF-IDF representation"
      ],
      "metadata": {
        "id": "s5bNXwnak481"
      }
    },
    {
      "cell_type": "code",
      "execution_count": 47,
      "metadata": {
        "id": "IHv_sMjeekX6",
        "outputId": "69b04fdf-e466-47e6-fdf5-70954e61eafb",
        "colab": {
          "base_uri": "https://localhost:8080/"
        }
      },
      "outputs": [
        {
          "output_type": "stream",
          "name": "stdout",
          "text": [
            "X: 1st posts in tf-idf representation\n",
            "[0.06334303 0.         0.         0.23376403 0.         0.\n",
            " 0.         0.23697612 0.         0.06489815 0.         0.\n",
            " 0.         0.         0.04413338 0.         0.         0.\n",
            " 0.         0.         0.         0.         0.         0.\n",
            " 0.07025658 0.         0.         0.         0.         0.\n",
            " 0.04575255 0.03575253 0.05734348 0.         0.         0.\n",
            " 0.06801717 0.         0.         0.         0.         0.\n",
            " 0.11589968 0.         0.         0.06455338 0.         0.\n",
            " 0.         0.03606926 0.04765916 0.         0.         0.\n",
            " 0.12742517 0.         0.         0.04284409 0.07302311 0.\n",
            " 0.         0.         0.05153893 0.         0.         0.\n",
            " 0.         0.         0.         0.         0.08936234 0.04024648\n",
            " 0.         0.         0.         0.10397022 0.06759754 0.\n",
            " 0.04118257 0.         0.         0.06060778 0.         0.\n",
            " 0.         0.         0.07031823 0.04511933 0.         0.\n",
            " 0.         0.         0.         0.05805951 0.         0.\n",
            " 0.         0.10080743 0.         0.         0.         0.\n",
            " 0.         0.         0.04642138 0.         0.         0.05649264\n",
            " 0.         0.         0.         0.06159704 0.         0.\n",
            " 0.         0.         0.         0.06878169 0.         0.\n",
            " 0.06798323 0.         0.         0.         0.05603669 0.\n",
            " 0.         0.04439279 0.         0.         0.         0.\n",
            " 0.         0.         0.         0.         0.         0.\n",
            " 0.         0.06009815 0.07025658 0.         0.         0.0660849\n",
            " 0.06625546 0.         0.05837486 0.         0.         0.\n",
            " 0.         0.         0.         0.         0.         0.\n",
            " 0.04094303 0.         0.         0.         0.         0.\n",
            " 0.         0.         0.         0.         0.04725614 0.13749271\n",
            " 0.         0.         0.         0.         0.20153012 0.\n",
            " 0.         0.         0.         0.         0.05754953 0.03833558\n",
            " 0.         0.         0.         0.         0.05756378 0.09041414\n",
            " 0.         0.         0.         0.         0.         0.\n",
            " 0.         0.         0.06480421 0.         0.         0.\n",
            " 0.         0.         0.         0.         0.         0.\n",
            " 0.         0.         0.         0.         0.05896479 0.\n",
            " 0.06218113 0.         0.         0.         0.04813471 0.\n",
            " 0.         0.         0.0480264  0.         0.         0.10759868\n",
            " 0.         0.         0.         0.         0.         0.\n",
            " 0.         0.         0.         0.05457811 0.         0.\n",
            " 0.         0.         0.         0.         0.03745581 0.\n",
            " 0.         0.1468006  0.         0.         0.         0.\n",
            " 0.06871191 0.         0.         0.         0.         0.\n",
            " 0.         0.         0.         0.         0.         0.\n",
            " 0.         0.         0.         0.         0.         0.\n",
            " 0.         0.         0.         0.06942891 0.25480357 0.\n",
            " 0.         0.         0.         0.         0.09967199 0.\n",
            " 0.         0.0644881  0.04953179 0.14227591 0.06350311 0.\n",
            " 0.03789444 0.10984428 0.         0.03770405 0.         0.\n",
            " 0.         0.         0.06564355 0.04638496 0.         0.\n",
            " 0.         0.         0.         0.         0.         0.03932632\n",
            " 0.10580761 0.         0.03073722 0.         0.         0.\n",
            " 0.         0.         0.         0.         0.         0.\n",
            " 0.         0.         0.         0.04644612 0.         0.03104837\n",
            " 0.         0.08732335 0.16079009 0.         0.         0.\n",
            " 0.06653056 0.         0.07376286 0.         0.08018503 0.\n",
            " 0.         0.12164332 0.         0.1333154  0.         0.\n",
            " 0.         0.03805265 0.         0.         0.         0.\n",
            " 0.         0.05846386 0.         0.         0.         0.\n",
            " 0.         0.         0.         0.         0.         0.\n",
            " 0.         0.         0.08803926 0.         0.0323054  0.\n",
            " 0.         0.05261054 0.         0.         0.06341643 0.06436265\n",
            " 0.         0.         0.         0.         0.13258674 0.\n",
            " 0.08242425 0.         0.         0.         0.         0.\n",
            " 0.         0.         0.10587818 0.06577999 0.06997842 0.\n",
            " 0.03773393 0.         0.05967045 0.         0.06138266 0.03990413\n",
            " 0.         0.         0.         0.         0.         0.06882436\n",
            " 0.         0.         0.0324129  0.0522442  0.         0.\n",
            " 0.         0.0645762  0.         0.         0.         0.\n",
            " 0.04331154 0.         0.03458434 0.         0.         0.\n",
            " 0.05249782 0.         0.         0.         0.         0.\n",
            " 0.         0.03581859 0.07727537 0.         0.         0.\n",
            " 0.         0.         0.         0.         0.         0.\n",
            " 0.         0.04610486 0.         0.         0.         0.04635315\n",
            " 0.         0.         0.03885579 0.         0.         0.\n",
            " 0.         0.03982704 0.         0.         0.         0.\n",
            " 0.07012001 0.06177556 0.         0.06923305 0.         0.09768106\n",
            " 0.         0.06357126 0.         0.         0.         0.\n",
            " 0.06421548 0.         0.         0.         0.09834989 0.\n",
            " 0.         0.         0.06243448 0.         0.13209799 0.05055874\n",
            " 0.         0.         0.         0.         0.         0.\n",
            " 0.06491217 0.         0.08172322 0.         0.         0.\n",
            " 0.         0.         0.         0.         0.         0.\n",
            " 0.         0.06125014 0.         0.         0.         0.\n",
            " 0.         0.         0.10266476 0.06252832 0.         0.\n",
            " 0.         0.         0.05646138 0.         0.         0.\n",
            " 0.         0.         0.06511882 0.05379383 0.         0.\n",
            " 0.04293566 0.06189874 0.         0.         0.         0.\n",
            " 0.12178055 0.06308455 0.06021325 0.03463638 0.         0.05517061\n",
            " 0.03230507 0.         0.         0.03418644 0.04475689 0.\n",
            " 0.         0.04034369 0.         0.         0.05409831 0.\n",
            " 0.         0.         0.         0.         0.         0.06494002\n",
            " 0.06088003 0.05932364 0.         0.         0.         0.\n",
            " 0.         0.18168697 0.0638225  0.05120256 0.         0.03060054\n",
            " 0.06727778 0.         0.02992786 0.         0.         0.04091234\n",
            " 0.         0.         0.         0.         0.         0.07030827\n",
            " 0.         0.         0.         0.         0.         0.\n",
            " 0.         0.05682151 0.         0.         0.05394506 0.\n",
            " 0.04466198 0.         0.06018845 0.         0.0437079  0.08793826\n",
            " 0.         0.03417653 0.07912493 0.         0.        ]\n"
          ]
        }
      ],
      "source": [
        "print(\"X: 1st posts in tf-idf representation\\n%s\" % X_tfidf[5])"
      ]
    },
    {
      "cell_type": "markdown",
      "metadata": {
        "id": "UvoABgNLuo2X"
      },
      "source": [
        "## Training & Evaluating Models"
      ]
    },
    {
      "cell_type": "code",
      "execution_count": 48,
      "metadata": {
        "id": "UCS6dtAwGWiI"
      },
      "outputs": [],
      "source": [
        "# Posts in tf-idf representation\n",
        "X = X_tfidf"
      ]
    },
    {
      "cell_type": "code",
      "source": [
        "def model_individual(personality_type,list_personality,X,model):\n",
        "  # Individually training each mbti personlity type\n",
        "  for l in range(len(personality_type)):\n",
        "    \n",
        "    Y = list_personality[:,l]\n",
        "\n",
        "    # split data into train and test sets\n",
        "    X_train, X_test, y_train, y_test = train_test_split(X, Y, test_size=0.3, random_state=42)\n",
        "\n",
        "    # fit model on training data\n",
        "    model.fit(X_train, y_train)\n",
        "\n",
        "    # make predictions for test data\n",
        "    y_pred = model.predict(X_test)\n",
        "    predictions = [round(value) for value in y_pred]\n",
        "    # evaluate predictions\n",
        "    accuracy = accuracy_score(y_test, predictions)\n",
        "    \n",
        "    print(\"%s Accuracy: %.2f%%\" % (personality_type[l], accuracy * 100.0))\n",
        "    Performance_Metrics(y_test,y_pred)"
      ],
      "metadata": {
        "id": "WlUBIrexlfw1"
      },
      "execution_count": 53,
      "outputs": []
    },
    {
      "cell_type": "code",
      "execution_count": 54,
      "metadata": {
        "id": "pWUcW-W-eyo_",
        "outputId": "1fb3cf87-e274-490c-b301-71f5345fa0d3",
        "colab": {
          "base_uri": "https://localhost:8080/"
        }
      },
      "outputs": [
        {
          "output_type": "stream",
          "name": "stdout",
          "text": [
            "IE: Introversion (I) / Extroversion (E) Accuracy: 76.52%\n",
            "-------------------PERFORMANCE METRICS-------------------\n",
            "Accuracy: 76.5249363627793\n",
            "F1 score: 67.16172021315276\n",
            "Recall: 76.5249363627793\n",
            "Precision: 73.8430836010745\n",
            "---------------------------------------------------------\n",
            "NS: Intuition (N) / Sensing (S) Accuracy: 91.16%\n",
            "-------------------PERFORMANCE METRICS-------------------\n",
            "Accuracy: 91.15992583514031\n",
            "F1 score: 86.9596996035299\n",
            "Recall: 91.15992583514031\n",
            "Precision: 88.40884990884823\n",
            "---------------------------------------------------------\n",
            "FT: Feeling (F) / Thinking (T) Accuracy: 74.82%\n",
            "-------------------PERFORMANCE METRICS-------------------\n",
            "Accuracy: 74.82165865309072\n",
            "F1 score: 71.76566769684548\n",
            "Recall: 74.82165865309072\n",
            "Precision: 75.72354321659083\n",
            "---------------------------------------------------------\n",
            "JP: Judging (J) / Perceiving (P) Accuracy: 65.68%\n",
            "-------------------PERFORMANCE METRICS-------------------\n",
            "Accuracy: 65.67989692341536\n",
            "F1 score: 62.95126716169032\n",
            "Recall: 65.67989692341536\n",
            "Precision: 66.10839959184798\n",
            "---------------------------------------------------------\n"
          ]
        }
      ],
      "source": [
        "#Random Forest \n",
        "model_rf=RandomForestClassifier()\n",
        "model_individual(personality_type,list_personality,X,model_rf)"
      ]
    },
    {
      "cell_type": "code",
      "source": [
        "#XGB Classifier\n",
        "model_xgb = XGBClassifier()\n",
        "model_individual(personality_type,list_personality,X,model_xgb)"
      ],
      "metadata": {
        "colab": {
          "base_uri": "https://localhost:8080/"
        },
        "id": "_3AWJXwIndE_",
        "outputId": "6adfc093-f0c1-42fb-a271-32462604f430"
      },
      "execution_count": 55,
      "outputs": [
        {
          "output_type": "stream",
          "name": "stdout",
          "text": [
            "IE: Introversion (I) / Extroversion (E) Accuracy: 77.78%\n",
            "-------------------PERFORMANCE METRICS-------------------\n",
            "Accuracy: 77.77568272524434\n",
            "F1 score: 71.32350436780108\n",
            "Recall: 77.77568272524434\n",
            "Precision: 75.71682303557891\n",
            "---------------------------------------------------------\n",
            "NS: Intuition (N) / Sensing (S) Accuracy: 91.51%\n",
            "-------------------PERFORMANCE METRICS-------------------\n",
            "Accuracy: 91.51189466075861\n",
            "F1 score: 87.93378971151962\n",
            "Recall: 91.51189466075861\n",
            "Precision: 90.83669414942263\n",
            "---------------------------------------------------------\n",
            "FT: Feeling (F) / Thinking (T) Accuracy: 76.73%\n",
            "-------------------PERFORMANCE METRICS-------------------\n",
            "Accuracy: 76.72920398478992\n",
            "F1 score: 74.83690176276457\n",
            "Recall: 76.72920398478992\n",
            "Precision: 76.88561129287685\n",
            "---------------------------------------------------------\n",
            "JP: Judging (J) / Perceiving (P) Accuracy: 67.72%\n",
            "-------------------PERFORMANCE METRICS-------------------\n",
            "Accuracy: 67.7194305647214\n",
            "F1 score: 66.09910326455196\n",
            "Recall: 67.7194305647214\n",
            "Precision: 67.78930009646581\n",
            "---------------------------------------------------------\n"
          ]
        }
      ]
    },
    {
      "cell_type": "code",
      "execution_count": 56,
      "metadata": {
        "id": "cAr3yKPaSVNe",
        "outputId": "6585c28f-5836-47e9-8b49-84188812ffa3",
        "colab": {
          "base_uri": "https://localhost:8080/"
        }
      },
      "outputs": [
        {
          "output_type": "stream",
          "name": "stdout",
          "text": [
            "IE: Introversion (I) / Extroversion (E) Accuracy: 76.40%\n",
            "-------------------PERFORMANCE METRICS-------------------\n",
            "Accuracy: 76.40237578957291\n",
            "F1 score: 66.42247195284972\n",
            "Recall: 76.40237578957291\n",
            "Precision: 76.89187899016505\n",
            "---------------------------------------------------------\n",
            "NS: Intuition (N) / Sensing (S) Accuracy: 91.16%\n",
            "-------------------PERFORMANCE METRICS-------------------\n",
            "Accuracy: 91.15678325634016\n",
            "F1 score: 86.93972551840136\n",
            "Recall: 91.15678325634016\n",
            "Precision: 83.09559133643377\n",
            "---------------------------------------------------------\n",
            "FT: Feeling (F) / Thinking (T) Accuracy: 81.21%\n",
            "-------------------PERFORMANCE METRICS-------------------\n",
            "Accuracy: 81.20737877502279\n",
            "F1 score: 80.6295176664072\n",
            "Recall: 81.20737877502279\n",
            "Precision: 80.93994575260074\n",
            "---------------------------------------------------------\n",
            "JP: Judging (J) / Perceiving (P) Accuracy: 69.16%\n",
            "-------------------PERFORMANCE METRICS-------------------\n",
            "Accuracy: 69.16187423399641\n",
            "F1 score: 68.85128227873307\n",
            "Recall: 69.16187423399641\n",
            "Precision: 68.85501363769292\n",
            "---------------------------------------------------------\n"
          ]
        }
      ],
      "source": [
        "# Stocastic Gradient Descent \n",
        "model_sgd = SGDClassifier()\n",
        "model_individual(personality_type,list_personality,X,model_sgd)"
      ]
    },
    {
      "cell_type": "code",
      "source": [
        "model_lr = LogisticRegression() \n",
        "model_individual(personality_type,list_personality,X,model_lr)"
      ],
      "metadata": {
        "colab": {
          "base_uri": "https://localhost:8080/"
        },
        "id": "m6lM0Tpln_rE",
        "outputId": "e74c4fbf-7c9a-4938-c684-0dc9ae7ccf19"
      },
      "execution_count": 57,
      "outputs": [
        {
          "output_type": "stream",
          "name": "stdout",
          "text": [
            "IE: Introversion (I) / Extroversion (E) Accuracy: 78.68%\n",
            "-------------------PERFORMANCE METRICS-------------------\n",
            "Accuracy: 78.67760284089124\n",
            "F1 score: 75.42290967248486\n",
            "Recall: 78.67760284089124\n",
            "Precision: 76.13792088105517\n",
            "---------------------------------------------------------\n",
            "NS: Intuition (N) / Sensing (S) Accuracy: 91.79%\n",
            "-------------------PERFORMANCE METRICS-------------------\n",
            "Accuracy: 91.79472675277333\n",
            "F1 score: 89.26381576855911\n",
            "Recall: 91.79472675277333\n",
            "Precision: 90.04489525579761\n",
            "---------------------------------------------------------\n",
            "FT: Feeling (F) / Thinking (T) Accuracy: 81.33%\n",
            "-------------------PERFORMANCE METRICS-------------------\n",
            "Accuracy: 81.33308192702931\n",
            "F1 score: 81.00044371833312\n",
            "Recall: 81.33308192702931\n",
            "Precision: 81.01299669278913\n",
            "---------------------------------------------------------\n",
            "JP: Judging (J) / Perceiving (P) Accuracy: 69.10%\n",
            "-------------------PERFORMANCE METRICS-------------------\n",
            "Accuracy: 69.10216523679331\n",
            "F1 score: 68.57328345357534\n",
            "Recall: 69.10216523679331\n",
            "Precision: 68.76663500291082\n",
            "---------------------------------------------------------\n"
          ]
        }
      ]
    },
    {
      "cell_type": "code",
      "source": [
        "from sklearn.naive_bayes import GaussianNB\n",
        "model_nb = GaussianNB()\n",
        "model_individual(personality_type,list_personality,X,model_nb)"
      ],
      "metadata": {
        "colab": {
          "base_uri": "https://localhost:8080/"
        },
        "id": "7kJJ3CqhqS5L",
        "outputId": "d070cb41-2ffc-44ff-9c56-87b80f583b4d"
      },
      "execution_count": 58,
      "outputs": [
        {
          "output_type": "stream",
          "name": "stdout",
          "text": [
            "IE: Introversion (I) / Extroversion (E) Accuracy: 69.43%\n",
            "-------------------PERFORMANCE METRICS-------------------\n",
            "Accuracy: 69.43213601081048\n",
            "F1 score: 71.0354917447788\n",
            "Recall: 69.43213601081048\n",
            "Precision: 73.96707332963908\n",
            "---------------------------------------------------------\n",
            "NS: Intuition (N) / Sensing (S) Accuracy: 75.77%\n",
            "-------------------PERFORMANCE METRICS-------------------\n",
            "Accuracy: 75.76757487193991\n",
            "F1 score: 80.502542713432\n",
            "Recall: 75.76757487193991\n",
            "Precision: 88.79686975718019\n",
            "---------------------------------------------------------\n",
            "FT: Feeling (F) / Thinking (T) Accuracy: 73.85%\n",
            "-------------------PERFORMANCE METRICS-------------------\n",
            "Accuracy: 73.8537443826404\n",
            "F1 score: 74.37344731472963\n",
            "Recall: 73.8537443826404\n",
            "Precision: 75.87609980713104\n",
            "---------------------------------------------------------\n",
            "JP: Judging (J) / Perceiving (P) Accuracy: 63.34%\n",
            "-------------------PERFORMANCE METRICS-------------------\n",
            "Accuracy: 63.335533138493446\n",
            "F1 score: 63.56192520562451\n",
            "Recall: 63.335533138493446\n",
            "Precision: 64.41568463346535\n",
            "---------------------------------------------------------\n"
          ]
        }
      ]
    },
    {
      "cell_type": "code",
      "source": [
        "from sklearn.model_selection import RandomizedSearchCV"
      ],
      "metadata": {
        "id": "sD7-ltYuJnro"
      },
      "execution_count": 71,
      "outputs": []
    },
    {
      "cell_type": "code",
      "source": [
        "#estimator=[int(x) for x in np.linspace(start=2, stop = 200,num=198)]   \n",
        "n_estimator= [int(x) for x in np.linspace(start = 10, stop = 200, num = 10)]\n",
        "max_features = ['auto', 'sqrt']\n",
        "max_depth = [None,2,4,6,8,10]\n",
        "min_samples_split = [2,3,5,6,7,9,10]\n",
        "min_samples_leaf = [1,2,3,4,5]\n",
        "bootstrap = [True, False]\n",
        "random_forest_tuning = {'n_estimators': n_estimator,\n",
        "                        'max_features': max_features,\n",
        "                        'max_depth': max_depth,\n",
        "                        'min_samples_split': min_samples_split,\n",
        "                        'min_samples_leaf': min_samples_leaf,\n",
        "                        'bootstrap': bootstrap}"
      ],
      "metadata": {
        "id": "sdEBxGQcHawP"
      },
      "execution_count": 72,
      "outputs": []
    },
    {
      "cell_type": "code",
      "source": [
        "def RF_Hyperparameter_Tuning(model_tuning, X_train, y_train,X_test, y_test,model_tuning_list):\n",
        "    _random = RandomizedSearchCV(estimator = model_tuning, param_distributions = model_tuning_list, n_iter = 10, cv = 2, verbose=2, random_state=0, n_jobs = -1)\n",
        "    _random.fit(X_train, y_train)\n",
        "    print('Best Params: ',_random.best_params_)\n",
        "    print('Best Score: ',_random.best_score_*100)\n",
        "    print('Best Estimator: ',_random.best_estimator_)\n",
        "    y_prediction = _random.best_estimator_.predict(X_test)\n",
        "    Performance_Metrics(y_test,y_prediction)"
      ],
      "metadata": {
        "id": "gAGTp5GEHfdu"
      },
      "execution_count": 73,
      "outputs": []
    },
    {
      "cell_type": "code",
      "source": [
        "def model_individual(personality_type,list_personality,X,model,model_tuning_list):\n",
        "  # Individually training each mbti personlity type\n",
        "  for l in range(len(personality_type)):\n",
        "    \n",
        "    Y = list_personality[:,l]\n",
        "\n",
        "    # split data into train and test sets\n",
        "    X_train, X_test, y_train, y_test = train_test_split(X, Y, test_size=0.3, random_state=42)\n",
        "    \n",
        "    RF_Hyperparameter_Tuning(model, X_train, y_train,X_test, y_test,model_tuning_list)"
      ],
      "metadata": {
        "id": "zBvahnKrHqOd"
      },
      "execution_count": 74,
      "outputs": []
    },
    {
      "cell_type": "code",
      "source": [
        "model_rf=RandomForestClassifier()"
      ],
      "metadata": {
        "id": "AMqILi_RJBDd"
      },
      "execution_count": 75,
      "outputs": []
    },
    {
      "cell_type": "code",
      "source": [
        "model_individual(personality_type,list_personality,X,model_rf,random_forest_tuning )"
      ],
      "metadata": {
        "colab": {
          "base_uri": "https://localhost:8080/"
        },
        "id": "rtuBq8MHItne",
        "outputId": "4be9ba70-7faf-4790-f739-37b465fd470d"
      },
      "execution_count": 76,
      "outputs": [
        {
          "output_type": "stream",
          "name": "stdout",
          "text": [
            "Fitting 2 folds for each of 10 candidates, totalling 20 fits\n",
            "Best Params:  {'n_estimators': 73, 'min_samples_split': 6, 'min_samples_leaf': 3, 'max_features': 'auto', 'max_depth': None, 'bootstrap': False}\n",
            "Best Score:  76.31926299059882\n",
            "Best Estimator:  RandomForestClassifier(bootstrap=False, min_samples_leaf=3, min_samples_split=6,\n",
            "                       n_estimators=73)\n",
            "-------------------PERFORMANCE METRICS-------------------\n",
            "Accuracy: 76.68206530278748\n",
            "F1 score: 67.5202509488365\n",
            "Recall: 76.68206530278748\n",
            "Precision: 75.16359176905024\n",
            "---------------------------------------------------------\n",
            "Fitting 2 folds for each of 10 candidates, totalling 20 fits\n",
            "Best Params:  {'n_estimators': 52, 'min_samples_split': 2, 'min_samples_leaf': 5, 'max_features': 'sqrt', 'max_depth': 6, 'bootstrap': True}\n",
            "Best Score:  91.39751636451795\n",
            "Best Estimator:  RandomForestClassifier(max_depth=6, max_features='sqrt', min_samples_leaf=5,\n",
            "                       n_estimators=52)\n",
            "-------------------PERFORMANCE METRICS-------------------\n",
            "Accuracy: 91.15678325634016\n",
            "F1 score: 86.93972551840136\n",
            "Recall: 91.15678325634016\n",
            "Precision: 83.09559133643377\n",
            "---------------------------------------------------------\n",
            "Fitting 2 folds for each of 10 candidates, totalling 20 fits\n",
            "Best Params:  {'n_estimators': 200, 'min_samples_split': 5, 'min_samples_leaf': 5, 'max_features': 'sqrt', 'max_depth': None, 'bootstrap': False}\n",
            "Best Score:  74.68146432131024\n",
            "Best Estimator:  RandomForestClassifier(bootstrap=False, max_features='sqrt', min_samples_leaf=5,\n",
            "                       min_samples_split=5, n_estimators=200)\n",
            "-------------------PERFORMANCE METRICS-------------------\n",
            "Accuracy: 75.51302598912667\n",
            "F1 score: 72.3270264379718\n",
            "Recall: 75.51302598912667\n",
            "Precision: 77.1537696999633\n",
            "---------------------------------------------------------\n",
            "Fitting 2 folds for each of 10 candidates, totalling 20 fits\n",
            "Best Params:  {'n_estimators': 200, 'min_samples_split': 5, 'min_samples_leaf': 5, 'max_features': 'sqrt', 'max_depth': None, 'bootstrap': False}\n",
            "Best Score:  66.73356140398137\n",
            "Best Estimator:  RandomForestClassifier(bootstrap=False, max_features='sqrt', min_samples_leaf=5,\n",
            "                       min_samples_split=5, n_estimators=200)\n",
            "-------------------PERFORMANCE METRICS-------------------\n",
            "Accuracy: 66.4749693598567\n",
            "F1 score: 63.1213426994975\n",
            "Recall: 66.4749693598567\n",
            "Precision: 67.96496700383402\n",
            "---------------------------------------------------------\n"
          ]
        }
      ]
    },
    {
      "cell_type": "code",
      "source": [
        "from sklearn.metrics import plot_confusion_matrix\n",
        "\n",
        "#fig, ax = plt.subplots(1, 1,figsize=(15,10)) \n",
        "#plot_confusion_matrix(LG, X_test, y_test,ax=ax)"
      ],
      "metadata": {
        "id": "QRIvi3BMPeDW"
      },
      "execution_count": null,
      "outputs": []
    },
    {
      "cell_type": "code",
      "source": [
        "xgboost_params = {'max_depth': [1,2,3,4,5,6,7,8,9,10],\n",
        "          'min_child_weight': [1,2,3,5,7,9,10],\n",
        "          'gamma': [0,0.2,0.3,0.5, 1, 1.5, 2,2.5,5],\n",
        "          'subsample': [0.5,0.6,0.7,0.8,0.9,1.0],\n",
        "          'colsample_bytree': [0.1,0.2,0.4,0.6,0.8,1.0]\n",
        "        }\n",
        "model_xgb=XGBClassifier()\n",
        "model_individual(personality_type,list_personality,X,model_xgb,xgboost_params)"
      ],
      "metadata": {
        "colab": {
          "base_uri": "https://localhost:8080/"
        },
        "id": "4upInkpcWvPd",
        "outputId": "ad20e116-14df-4a7a-96d5-e37987cd8d15"
      },
      "execution_count": null,
      "outputs": [
        {
          "output_type": "stream",
          "name": "stdout",
          "text": [
            "Fitting 2 folds for each of 10 candidates, totalling 20 fits\n",
            "Best Params:  {'subsample': 0.9, 'min_child_weight': 9, 'max_depth': 8, 'gamma': 0.2, 'colsample_bytree': 1.0}\n",
            "Best Score:  78.23721143226572\n",
            "Best Estimator:  XGBClassifier(colsample_bytree=1.0, gamma=0.2, max_depth=8, min_child_weight=9,\n",
            "              subsample=0.9)\n",
            "-------------------PERFORMANCE METRICS-------------------\n",
            "Accuracy: 78.6367493164891\n",
            "F1 score: 74.31136397148667\n",
            "Recall: 78.6367493164891\n",
            "Precision: 76.29011267349819\n",
            "---------------------------------------------------------\n",
            "Fitting 2 folds for each of 10 candidates, totalling 20 fits\n",
            "Best Params:  {'subsample': 0.9, 'min_child_weight': 10, 'max_depth': 10, 'gamma': 2.5, 'colsample_bytree': 1.0}\n",
            "Best Score:  91.88239097055734\n",
            "Best Estimator:  XGBClassifier(colsample_bytree=1.0, gamma=2.5, max_depth=10,\n",
            "              min_child_weight=10, subsample=0.9)\n",
            "-------------------PERFORMANCE METRICS-------------------\n",
            "Accuracy: 91.81986738317464\n",
            "F1 score: 88.86112653191478\n",
            "Recall: 91.81986738317464\n",
            "Precision: 90.74755463801864\n",
            "---------------------------------------------------------\n",
            "Fitting 2 folds for each of 10 candidates, totalling 20 fits\n",
            "Best Params:  {'subsample': 0.9, 'min_child_weight': 10, 'max_depth': 10, 'gamma': 2.5, 'colsample_bytree': 1.0}\n",
            "Best Score:  79.21504188777845\n",
            "Best Estimator:  XGBClassifier(colsample_bytree=1.0, gamma=2.5, max_depth=10,\n",
            "              min_child_weight=10, subsample=0.9)\n",
            "-------------------PERFORMANCE METRICS-------------------\n",
            "Accuracy: 79.34068696772572\n",
            "F1 score: 78.56074429855441\n",
            "Recall: 79.34068696772572\n",
            "Precision: 78.99090253712579\n",
            "---------------------------------------------------------\n",
            "Fitting 2 folds for each of 10 candidates, totalling 20 fits\n"
          ]
        }
      ]
    }
  ],
  "metadata": {
    "kernelspec": {
      "display_name": "Python 3",
      "language": "python",
      "name": "python3"
    },
    "language_info": {
      "codemirror_mode": {
        "name": "ipython",
        "version": 3
      },
      "file_extension": ".py",
      "mimetype": "text/x-python",
      "name": "python",
      "nbconvert_exporter": "python",
      "pygments_lexer": "ipython3",
      "version": "3.7.4"
    },
    "colab": {
      "provenance": []
    }
  },
  "nbformat": 4,
  "nbformat_minor": 0
}